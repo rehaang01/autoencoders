{
 "cells": [
  {
   "cell_type": "code",
   "execution_count": 26,
   "id": "e248fdad-6364-4155-8dd7-166e96615ca4",
   "metadata": {},
   "outputs": [],
   "source": [
    "import torch\n",
    "import torch.nn as nn\n",
    "import torch.nn.functional as F\n",
    "import torch.optim as optim\n",
    "import math\n",
    "import numpy as np\n",
    "\n",
    "###############################################################################\n",
    "# 1. Encoder f_{ε}: M -> C\n",
    "#    Input: one-hot vector of size |M|\n",
    "#    Hidden layers: (K, K, 2K)\n",
    "#    Output: 2 (linear)  [representing a single complex symbol, real & imag]\n",
    "###############################################################################\n",
    "class Encoder(nn.Module):\n",
    "    def __init__(self, M, K):\n",
    "        \"\"\"\n",
    "        M: int, size of message set (|M|)\n",
    "        K: base dimension from Table I\n",
    "        \"\"\"\n",
    "        super(Encoder, self).__init__()\n",
    "        self.net = nn.Sequential(\n",
    "            nn.Linear(M, K),\n",
    "            nn.ReLU(),\n",
    "            nn.Linear(K, K),\n",
    "            nn.ReLU(),\n",
    "            nn.Linear(K, 2*K),\n",
    "            nn.ReLU(),\n",
    "            nn.Linear(2*K, 2)  # 2 -> (real, imag) for a single complex output\n",
    "        )\n",
    "        \n",
    "    def forward(self, x):\n",
    "        \"\"\"\n",
    "        x: [batch_size, M] one-hot or embedded representation of the message\n",
    "        Returns: [batch_size, 2] real & imag parts of the encoded symbol\n",
    "        \"\"\"\n",
    "        return self.net(x)\n",
    "\n",
    "\n",
    "###############################################################################\n",
    "# 2. Beamformer f_{μ}: R^4 -> C^K\n",
    "#    Input: 4\n",
    "#    Hidden layers: (K, K, 2K)\n",
    "#    Output: K (linear)  [representing K real & imag pairs => 2K? \n",
    "#    However, Table I says \"Output layer: K (linear)\" \n",
    "#    Often, we might produce 2K for a complex beamformer, but \n",
    "#    here it appears we want real dimension K. Adjust if needed.\n",
    "###############################################################################\n",
    "class ComplexBeamformer(nn.Module):\n",
    "    def __init__(self, K):\n",
    "        \"\"\"\n",
    "        K: number of complex beamformer weights\n",
    "        Input: 4 real parameters (e.g. num_in, num_ax, theta_min, theta_max)\n",
    "        Output: a complex tensor of shape [batch_size, K]\n",
    "        \"\"\"\n",
    "        super(ComplexBeamformer, self).__init__()\n",
    "        self.K = K\n",
    "        self.net = nn.Sequential(\n",
    "            nn.Linear(4, K),\n",
    "            nn.ReLU(),\n",
    "            nn.Linear(K, K),\n",
    "            nn.ReLU(),\n",
    "            nn.Linear(K, 2*K),\n",
    "            # no activation here so we can have negative real/imag values\n",
    "        )\n",
    "        \n",
    "    def forward(self, x):\n",
    "        \"\"\"\n",
    "        x: [batch_size, 4]\n",
    "        returns: torch.complex64 tensor of shape [batch_size, K]\n",
    "        \"\"\"\n",
    "        out = self.net(x)               # [batch_size, 2K]\n",
    "        real, imag = out.chunk(2, dim=-1)  # each is [batch_size, K]\n",
    "        return torch.complex(real, imag)   # -> [batch_size, K] complex64\n",
    "\n",
    "\n",
    "###############################################################################\n",
    "# 3. Presence Detector f_{ρ}: C^K -> [0,1]\n",
    "#    Input: 2K (real + imag)\n",
    "#    Hidden layers: (K, 2K, 2K)\n",
    "#    Output: 1 (sigmoid)\n",
    "###############################################################################\n",
    "class PresenceDetector(nn.Module):\n",
    "    def __init__(self, K):\n",
    "        \"\"\"\n",
    "        K: base dimension from Table I\n",
    "        Input dimension is 2K for the real/imag representation of C^K.\n",
    "        \"\"\"\n",
    "        super(PresenceDetector, self).__init__()\n",
    "        self.net = nn.Sequential(\n",
    "            nn.Linear(2*K, 2*K),\n",
    "            nn.ReLU(),\n",
    "            nn.Linear(2*K, 2*K),\n",
    "            nn.ReLU(),\n",
    "            nn.Linear(2*K, K),\n",
    "            nn.ReLU(),\n",
    "            nn.Linear(K, 1),\n",
    "            nn.Sigmoid()\n",
    "        )\n",
    "        \n",
    "    def forward(self, x):\n",
    "        \"\"\"\n",
    "        x: [batch_size, 2K]\n",
    "        Returns: [batch_size, 1] in (0,1)\n",
    "        \"\"\"\n",
    "        return self.net(x)\n",
    "\n",
    "\n",
    "###############################################################################\n",
    "# 4. Angle Estimator f_{ν}: C^K -> [-π/2, π/2]\n",
    "#    Input: 2K\n",
    "#    Hidden layers: (2K, 2K, K)\n",
    "#    Output: 1 (tanh)   [scaled to [-1,1], which can represent an angle subset\n",
    "#    If you need to map [-1,1] -> [-π/2, π/2], you can multiply by π/2 externally.\n",
    "###############################################################################\n",
    "class AngleEstimator(nn.Module):\n",
    "    def __init__(self, K):\n",
    "        super(AngleEstimator, self).__init__()\n",
    "        self.net = nn.Sequential(\n",
    "            nn.Linear(2*K, 2*K),\n",
    "            nn.ReLU(),\n",
    "            nn.Linear(2*K, 2*K),\n",
    "            nn.ReLU(),\n",
    "            nn.Linear(2*K, K),\n",
    "            nn.ReLU(),\n",
    "            nn.Linear(K, 1),\n",
    "            nn.Tanh()  # angle in [-1,1], scale if needed\n",
    "        )\n",
    "        \n",
    "    def forward(self, x):\n",
    "        \"\"\"\n",
    "        x: [batch_size, 2K]\n",
    "        Returns: [batch_size, 1] in [-1,1], typically scaled to [-π/2, π/2]\n",
    "        \"\"\"\n",
    "        return self.net(x)\n",
    "\n",
    "\n",
    "###############################################################################\n",
    "# 5. Uncertainty Estimator f_{σ}: C^K -> R_{>0}\n",
    "#    Input: 2K\n",
    "#    Hidden layers: (2K, 2K, K)\n",
    "#    Output: 1 (ReLU)  => positive real\n",
    "###############################################################################\n",
    "class UncertaintyEstimator(nn.Module):\n",
    "    def __init__(self, K):\n",
    "        super(UncertaintyEstimator, self).__init__()\n",
    "        self.net = nn.Sequential(\n",
    "            nn.Linear(2*K, 2*K),\n",
    "            nn.ReLU(),\n",
    "            nn.Linear(2*K, 2*K),\n",
    "            nn.ReLU(),\n",
    "            nn.Linear(2*K, K),\n",
    "            nn.ReLU(),\n",
    "            nn.Linear(K, 1),\n",
    "            nn.ReLU()  # ensures positive output\n",
    "        )\n",
    "        \n",
    "    def forward(self, x):\n",
    "        \"\"\"\n",
    "        x: [batch_size, 2K]\n",
    "        Returns: [batch_size, 1] in [0, +∞)\n",
    "        \"\"\"\n",
    "        return self.net(x)\n",
    "\n",
    "\n",
    "###############################################################################\n",
    "# 6. Communication Receiver f_{η}: C^K -> [0,1]^{|M|}\n",
    "#    Input: 2K\n",
    "#    Hidden layers: (K, 2K, 2K)\n",
    "#    Output: |M| (softmax)\n",
    "###############################################################################\n",
    "class CommunicationReceiver(nn.Module):\n",
    "    def __init__(self, M, K):\n",
    "        \"\"\"\n",
    "        M: number of messages (|M|)\n",
    "        K: base hidden‐layer dimension\n",
    "        \"\"\"\n",
    "        super(CommunicationReceiver, self).__init__()\n",
    "        # After equalization, we have a 2‑dim real feature (real & imag)\n",
    "        self.fc1 = nn.Linear(2, K)\n",
    "        self.fc2 = nn.Linear(K, 2*K)\n",
    "        self.fc3 = nn.Linear(2*K, 2*K)\n",
    "        self.fc4 = nn.Linear(2*K, M)\n",
    "        \n",
    "    def forward(self, z_c, kappa):\n",
    "        \"\"\"\n",
    "        z_c: complex tensor of shape [batch_size]  (received symbol)\n",
    "        kappa: complex tensor of shape [batch_size]  (CSI)\n",
    "        \n",
    "        Returns:\n",
    "            [batch_size, M]  probability over messages\n",
    "        \"\"\"\n",
    "        # 1) Equalize\n",
    "        x_hat = z_c / (kappa + 1e-10)    # [B] complex\n",
    "        \n",
    "        # 2) Split into real & imag and form [B,2] features\n",
    "        x_real = x_hat.real.unsqueeze(-1)   # [B,1]\n",
    "        x_imag = x_hat.imag.unsqueeze(-1)   # [B,1]\n",
    "        x_feat = torch.cat([x_real, x_imag], dim=-1)  # [B,2]\n",
    "        \n",
    "        # 3) MLP\n",
    "        x = F.relu(self.fc1(x_feat))      # [B,K]\n",
    "        x = F.relu(self.fc2(x))           # [B,2K]\n",
    "        x = F.relu(self.fc3(x))           # [B,2K]\n",
    "        logits = self.fc4(x)              # [B,M]\n",
    "        \n",
    "        # 4) Convert to probabilities (or omit and use CrossEntropyLoss on logits)\n",
    "        return logits"
   ]
  },
  {
   "cell_type": "code",
   "execution_count": 4,
   "id": "1f881b6a",
   "metadata": {},
   "outputs": [
    {
     "data": {
      "image/png": "[encoded data removed]",
      "text/plain": [
       "<Figure size 800x500 with 1 Axes>"
      ]
     },
     "metadata": {},
     "output_type": "display_data"
    }
   ],
   "source": [
    "import numpy as np\n",
    "import matplotlib.pyplot as plt\n",
    "from scipy.special import erfc\n",
    "\n",
    "# Q‐function\n",
    "def Q(x): return 0.5 * erfc(x/np.sqrt(2))\n",
    "\n",
    "# Eb/N0 range in dB\n",
    "EbN0_dB = np.arange(0, 10, 1)\n",
    "EbN0    = 10**(EbN0_dB/10)\n",
    "\n",
    "# 1) Theo. UB Hamming‐SD (3,1)\n",
    "R_h31, d_h31 = 1/3, 3\n",
    "ser_h31_sd = Q(np.sqrt(2 * d_h31 * R_h31 * EbN0))\n",
    "\n",
    "# 2) Theo. Approx‐Hamming‐HD (3,1)\n",
    "p = Q(np.sqrt(2*EbN0))\n",
    "ser_h31_hd = 3*p**2*(1-p) + p**3\n",
    "\n",
    "# 3) Theo. UB‐Golay‐HD (24,12)\n",
    "R_golay = 12/24\n",
    "weights  = np.array([8,12,16,24])\n",
    "A        = np.array([759,2576,759,1])\n",
    "ser_golay = sum(Ai * Q(np.sqrt(2*di*R_golay*EbN0))\n",
    "                for Ai,di in zip(A,weights))\n",
    "\n",
    "# 4) “Paper” VAE line — **must** match length of EbN0_dB\n",
    "# approximate from your plot so it’s always the bottom curve\n",
    "ser_vae = np.array([\n",
    "    7e-2, 4e-2, 2e-2, 1.2e-2, 9e-3, 3e-3, 8e-4, 7e-5, 2e-6, 1e-7\n",
    "])\n",
    "\n",
    "# Plot everything\n",
    "plt.figure(figsize=(8,5))\n",
    "\n",
    "plt.semilogy(EbN0_dB, ser_h31_sd,  'd-', label='Theo. UB Hamming‐SD (3,1)', color='gray')\n",
    "plt.semilogy(EbN0_dB, ser_h31_hd,  'o-', label='Theo. Approx‐Hamming‐HD (3,1)', color='green')\n",
    "plt.semilogy(EbN0_dB, ser_golay,  's-', label='Theo. UB‐Golay‐HD (24,12)', color='black')\n",
    "plt.semilogy(EbN0_dB, ser_vae,    '*-', label='VAE‐2RLV BPSK AWGN', color='orange', zorder=5, markersize=8)\n",
    "\n",
    "plt.grid(which='both', linestyle=':', linewidth=0.5)\n",
    "plt.xlabel(r'$E_b/N_0$ (dB)')\n",
    "plt.ylabel('SER')\n",
    "plt.title('BPSK SER')\n",
    "plt.legend(loc='lower left')\n",
    "plt.ylim(1e-7, 1)\n",
    "plt.xlim(0,9)\n",
    "plt.tight_layout()\n",
    "plt.show()\n"
   ]
  },
  {
   "cell_type": "code",
   "execution_count": 27,
   "id": "ed2041fe-77d7-4643-acf1-9d1f07ecdab4",
   "metadata": {},
   "outputs": [],
   "source": [
    "#loss function\n",
    "def target_detection_loss(q, t):\n",
    "    \"\"\"\n",
    "    Binary Cross-Entropy (BCE) loss for target detection.\n",
    "    \n",
    "    Parameters:\n",
    "        q (Tensor): Detector output probabilities, shape [batch_size, 1].\n",
    "        t (Tensor): Ground truth target presence (0 or 1), shape [batch_size, 1] or [batch_size].\n",
    "    \n",
    "    Returns:\n",
    "        loss (Tensor): Scalar loss value.\n",
    "    \"\"\"\n",
    "    # Flatten t if necessary\n",
    "    t = t.view(-1, 1).float()\n",
    "    # We use binary cross entropy; note that BCE loss in PyTorch expects probabilities.\n",
    "    loss = F.binary_cross_entropy(q, t, reduction='mean')\n",
    "    return loss\n",
    "\n",
    "\n",
    "def target_regression_loss(theta_pred, sigma, theta_true, mask, eps=1e-6):\n",
    "    \"\"\"\n",
    "    NLL loss for Gaussian angle regression, computed only on mask==True entries.\n",
    "    \"\"\"\n",
    "    # make sure shapes line up\n",
    "    theta_pred = theta_pred.view(-1)\n",
    "    sigma      = sigma.view(-1) + eps\n",
    "    theta_true = theta_true.view(-1)\n",
    "    mask       = mask.view(-1)  # boolean tensor\n",
    "\n",
    "    # element‐wise NLL\n",
    "    diff         = theta_true - theta_pred\n",
    "    element_loss = torch.log(sigma) + 0.5 * (diff**2 / sigma**2)\n",
    "\n",
    "    # select only those entries where mask is True\n",
    "    masked_loss = element_loss[mask]\n",
    "\n",
    "    # if no positives, return zero (or you can choose to return masked_loss.mean(), \n",
    "    # but that would NaN out)\n",
    "    if masked_loss.numel() == 0:\n",
    "        return torch.tensor(0.0, device=element_loss.device, requires_grad=True)\n",
    "    else:\n",
    "        return masked_loss.mean()\n",
    "\n",
    "\n",
    "\n",
    "def overall_radar_loss(q, t, theta_pred, sigma, theta_true):\n",
    "    \"\"\"\n",
    "    Combines the target detection and regression losses.\n",
    "    \n",
    "    According to the description, the joint radar loss is:\n",
    "        J_NLL = J_TD + p(t=1) * J_TR\n",
    "    Here we compute J_TR only for the samples where t==1.\n",
    "    \n",
    "    Parameters:\n",
    "        q (Tensor): Detector output probabilities, shape [batch_size, 1].\n",
    "        t (Tensor): Ground truth target presence, shape [batch_size, 1] or [batch_size].\n",
    "        theta_pred (Tensor): Predicted target angle, shape [batch_size, 1].\n",
    "        sigma (Tensor): Estimated uncertainty, shape [batch_size, 1].\n",
    "        theta_true (Tensor): True target angle, shape [batch_size, 1].\n",
    "    \n",
    "    Returns:\n",
    "        loss (Tensor): Scalar overall radar loss.\n",
    "    \"\"\"\n",
    "    # Detection loss for all samples\n",
    "    loss_td = target_detection_loss(q, t)\n",
    "    \n",
    "    # Compute regression loss only for samples where target is present (t==1)\n",
    "    # Create a mask for samples with target present\n",
    "    mask = (t.view(-1) == 1)\n",
    "    if mask.sum() > 0:\n",
    "        loss_tr = target_regression_loss(theta_pred, sigma, theta_true, mask)\n",
    "    else:\n",
    "        loss_tr = 0.0\n",
    "    \n",
    "    # Here, the regression loss is weighted by the probability of target presence.\n",
    "    # In training, you could either use the empirical mean p(t=1) or incorporate it sample-wise.\n",
    "    # For simplicity, we weight the regression loss by the mean of t.\n",
    "    p_target = t.float().mean()\n",
    "    overall_loss = loss_td + p_target * loss_tr\n",
    "    return overall_loss\n",
    "\n",
    "\n",
    "def communication_loss(m_pred, m_true):\n",
    "    \"\"\"\n",
    "    Categorical Cross-Entropy (CCE) loss for communication.\n",
    "    \n",
    "    Parameters:\n",
    "        m_pred (Tensor): Predicted probability distribution over messages, shape [batch_size, C].\n",
    "        m_true (Tensor): Ground truth message labels.\n",
    "                         Either as class indices (LongTensor) of shape [batch_size] or as one-hot vectors.\n",
    "    \n",
    "    Returns:\n",
    "        loss (Tensor): Scalar loss value.\n",
    "    \"\"\"\n",
    "    # If m_true is one-hot, convert to class indices\n",
    "    if m_true.dim() == 2:\n",
    "        m_true = m_true.argmax(dim=1)\n",
    "    loss = F.cross_entropy(m_pred, m_true, reduction='mean')\n",
    "    return loss\n",
    "\n",
    "\n",
    "def isac_loss(loss_radar, loss_comm, r):\n",
    "    \"\"\"\n",
    "    Joint ISAC loss as a linear combination of the radar loss and communication loss.\n",
    "    \n",
    "    Parameters:\n",
    "        q (Tensor): Detector output probabilities from radar.\n",
    "        t (Tensor): Target presence ground truth.\n",
    "        theta_pred (Tensor): Predicted target angle.\n",
    "        sigma (Tensor): Estimated uncertainty.\n",
    "        theta_true (Tensor): True target angle.\n",
    "        m_pred (Tensor): Communication receiver output probabilities.\n",
    "        m_true (Tensor): Ground truth message labels.\n",
    "        r (float): Trade-off parameter in [0,1] between radar and communication losses.\n",
    "    \n",
    "    Returns:\n",
    "        loss (Tensor): Scalar total ISAC loss.\n",
    "    \"\"\"\n",
    "    total_loss = r * loss_radar + (1 - r) * loss_comm\n",
    "    return total_loss"
   ]
  },
  {
   "cell_type": "code",
   "execution_count": 28,
   "id": "cdf23e4c-b4c8-4b7e-82a4-6ea7b20c28e4",
   "metadata": {},
   "outputs": [],
   "source": [
    "def generate_steering_vector(theta, K):\n",
    "    \"\"\"\n",
    "    Generate complex-valued ULA steering vectors for a given angle θ.\n",
    "    \n",
    "    Args:\n",
    "        theta: [batch_size, 1] angles in radians\n",
    "        K: number of antenna elements\n",
    "        \n",
    "    Returns:\n",
    "        [batch_size, K] complex-valued steering vectors\n",
    "    \"\"\"\n",
    "    d = 0.5  # inter-element spacing (wavelength units)\n",
    "    array_indices = torch.arange(K, device=theta.device).float()\n",
    "    sin_theta = torch.sin(theta)  # [batch_size, 1]\n",
    "    phase_shifts = -2 * np.pi * d * sin_theta @ array_indices.view(1, -1)  # [B, K]\n",
    "    return torch.exp(1j * phase_shifts)  # [B, K], complex-valued\n",
    "def simulate_channels_real(x, v, theta, t, kappa, radar_snr_db, comm_snr_db):\n",
    "    \"\"\"\n",
    "    Simulate radar and communication channels and return real-valued versions of outputs.\n",
    "\n",
    "    Returns:\n",
    "        z_r_real: [B, 2*K] real tensor (real and imag parts of radar return)\n",
    "        z_c_real: [B, 2] real tensor (real and imag parts of comm signal)\n",
    "    \"\"\"\n",
    "    B, K = v.shape\n",
    "    radar_snr = 10 ** (radar_snr_db / 10)\n",
    "    comm_snr = 10 ** (comm_snr_db / 10)\n",
    "\n",
    "    \n",
    "\n",
    "    # Transmitted signal y = v * x (element-wise complex scaling)\n",
    "    y = v * x  # [B, K]\n",
    "\n",
    "    # --- Radar Channel ---\n",
    "    a_tx = generate_steering_vector(theta, K)  # [B, K]\n",
    "    a_rx = a_tx  # Assume monostatic\n",
    "\n",
    "    y_proj = torch.sum(torch.conj(a_tx) * y, dim=1, keepdim=True)  # [B, 1]\n",
    "    reflected = a_rx * y_proj  # [B, K]\n",
    "\n",
    "    alpha = 1.0\n",
    "    z_r = alpha * reflected * t  # [B, K]\n",
    "\n",
    "    noise_r = (1/np.sqrt(2)) * (\n",
    "        torch.randn(B, K, device=y.device) + 1j * torch.randn(B, K, device=y.device)\n",
    "    )\n",
    "    noise_scale_r = torch.sqrt(torch.mean(torch.abs(z_r)**2, dim=1, keepdim=True) / (radar_snr + 1e-10))\n",
    "    z_r = z_r + noise_r * noise_scale_r  # [B, K]\n",
    "\n",
    "    # --- Communication Channel ---\n",
    "    z_c = kappa * x  # [B]\n",
    "    noise_c = (1/np.sqrt(2)) * (\n",
    "        torch.randn(B, device=x.device) + 1j * torch.randn(B, device=x.device)\n",
    "    )\n",
    "    noise_scale_c = torch.sqrt(torch.mean(torch.abs(z_c)**2, dim=0, keepdim=True) / (comm_snr + 1e-10))\n",
    "    z_c = z_c + noise_c * noise_scale_c  # [B]\n",
    "\n",
    "    # --- Convert to real-valued arrays ---\n",
    "    z_r_real = torch.cat([z_r.real, z_r.imag], dim=1)  # [B, 2*K]\n",
    "    z_c_real = torch.stack([z_c.real, z_c.imag], dim=1)  # [B, 2]\n",
    "\n",
    "    return z_r_real, z_c_real\n",
    "\n",
    "\n",
    "\n",
    "def generate_comm_channel_gain(v, theta, sigma_c=1.0):\n",
    "    \"\"\"\n",
    "    Generate communication channel gain κ for a batch of beamformers and AoDs.\n",
    "\n",
    "    Args:\n",
    "        v: [B, K] complex beamforming weights\n",
    "        theta: [B, 1] AoD angles in radians\n",
    "        sigma_c: std dev of complex Gaussian fading (Rayleigh parameter)\n",
    "\n",
    "    Returns:\n",
    "        kappa: [B] complex channel gain values\n",
    "    \"\"\"\n",
    "    B, K = v.shape\n",
    "\n",
    "    # Generate steering vectors a_tx(θ): [B, K]\n",
    "    a_tx = generate_steering_vector(theta, K)  # assume shape [B, K]\n",
    "\n",
    "    # Rayleigh fading: β ∼ CN(0, σ_c^2)\n",
    "    beta = (sigma_c / np.sqrt(2)) * (\n",
    "        torch.randn(B, device=v.device) + 1j * torch.randn(B, device=v.device)\n",
    "    )  # [B]\n",
    "\n",
    "    # κ = β * a_tx^T * v\n",
    "    # a_tx and v: both [B, K] → take row-wise inner product\n",
    "    a_dot_v = torch.sum(a_tx.conj() * v, dim=1)  # [B]\n",
    "    kappa = beta * a_dot_v  # [B]\n",
    "\n",
    "    return kappa\n"
   ]
  },
  {
   "cell_type": "code",
   "execution_count": 29,
   "id": "578e33ca-07ef-487e-9c37-3c4581c504f6",
   "metadata": {},
   "outputs": [],
   "source": [
    "#parameters\n",
    "M=4\n",
    "K=16\n",
    "batch_size=1000\n",
    "num_samples=1000 \n",
    "radar_snr_range=(-10, 10)\n",
    "comm_snr_range=(0, 20)\n",
    "theta_range=(-20, 20)\n",
    "v_range=(30,50)\n",
    "target_presence_prob=0.5"
   ]
  },
  {
   "cell_type": "code",
   "execution_count": 30,
   "id": "fd514620-2623-4820-a4bc-96b412ade95b",
   "metadata": {},
   "outputs": [],
   "source": [
    "def generate_batch(M,batch_size\n",
    ",radar_snr_range\n",
    ",comm_snr_range\n",
    ",theta_range\n",
    ",v_range\n",
    ",target_presence_prob):\n",
    "        \"\"\"\n",
    "        Generate a single batch of training data.\n",
    "        \n",
    "        Returns:\n",
    "            Dictionary containing batch data\n",
    "        \"\"\"\n",
    "        # Generate random messages (one-hot encoded)\n",
    "        message_indices = torch.randint(0, M, (batch_size,))\n",
    "        m_onehot = F.one_hot(message_indices, num_classes=M).float()\n",
    "        \n",
    "        # Generate target presence indicator with probability target_presence_prob\n",
    "        t = (torch.rand(batch_size, 1) < target_presence_prob).float()\n",
    "        \n",
    "        # Generate random target angles within specified range\n",
    "        angle_min, angle_max = theta_range\n",
    "        theta_true = torch.rand(batch_size, 1) * (angle_max - angle_min) + angle_min\n",
    "        v_min, v_max = v_range\n",
    "        v_true = torch.rand(batch_size, 1) * (v_max - v_min) + v_min\n",
    "        # Generate random SNR values within specified ranges\n",
    "        radar_snr_min, radar_snr_max = radar_snr_range\n",
    "\n",
    "        \n",
    "        comm_snr_min, comm_snr_max = comm_snr_range\n",
    "        \n",
    "        radar_snr = torch.rand(batch_size, 1) * (radar_snr_max - radar_snr_min) + radar_snr_min\n",
    "        comm_snr = torch.rand(batch_size, 1) * (comm_snr_max - comm_snr_min) + comm_snr_min\n",
    "\n",
    "        # Center the values to have mean zero\n",
    "        radar_snr = radar_snr - radar_snr.mean()\n",
    "        comm_snr = comm_snr - comm_snr.mean()+20\n",
    "        \n",
    "        # Add additional beamformer parameters (random for now, can be tailored later)\n",
    "        bf_values = torch.tensor([-20.0, 20.0, 30.0, 50.0])\n",
    "        bf_params = bf_values.repeat(batch_size, 1)  # Shape: (batch_size, 4)\n",
    "\n",
    "        return {\n",
    "            'm_onehot': m_onehot,\n",
    "            't': t,\n",
    "            'theta_true': theta_true,\n",
    "            'v_true': v_true,\n",
    "            'radar_snr': radar_snr,\n",
    "            'comm_snr': comm_snr,\n",
    "            'bf_params': bf_params\n",
    "        }"
   ]
  },
  {
   "cell_type": "code",
   "execution_count": 31,
   "id": "925c7316-0499-476f-b82a-fa363307e526",
   "metadata": {},
   "outputs": [],
   "source": [
    "def generate_isac_dataset(M,K,num_samples,batch_size\n",
    ",radar_snr_range\n",
    ",comm_snr_range\n",
    ",theta_range\n",
    ",v_range\n",
    ",target_presence_prob):\n",
    "    num_batches=num_samples//batch_size\n",
    "    for i in range(num_batches):\n",
    "        yield generate_batch(M,batch_size\n",
    ",radar_snr_range\n",
    ",comm_snr_range\n",
    ",theta_range\n",
    ",v_range\n",
    ",target_presence_prob)"
   ]
  },
  {
   "cell_type": "code",
   "execution_count": 32,
   "id": "91414a14-015c-427e-9653-14cad8851141",
   "metadata": {},
   "outputs": [],
   "source": [
    "import torch\n",
    "import torch.nn as nn\n",
    "import torch.optim as optim\n",
    "import torch.nn.functional as F\n",
    "import numpy as np\n",
    "from tqdm import tqdm\n",
    "import os\n",
    "import argparse\n",
    "import time\n",
    "\n",
    "encoder = Encoder(M, K)\n",
    "beamformer = ComplexBeamformer(K)\n",
    "presence_detector = PresenceDetector(K)\n",
    "angle_estimator = AngleEstimator(K)\n",
    "uncertainty_estimator = UncertaintyEstimator(K)\n",
    "comm_receiver = CommunicationReceiver(M, K)\n",
    "\n",
    "def forward_pass(encoder, beamformer, presence_detector, angle_estimator, \n",
    "                uncertainty_estimator, comm_receiver, batch):\n",
    "    \"\"\"\n",
    "    Forward pass through the entire ISAC system.\n",
    "    \n",
    "    Args:\n",
    "        encoder: Message encoder\n",
    "        beamformer: Beamformer\n",
    "        presence_detector: Target presence detector\n",
    "        angle_estimator: Target angle estimator\n",
    "        uncertainty_estimator: Uncertainty estimator\n",
    "        comm_receiver: Communication receiver\n",
    "        batch: Batch of input data\n",
    "        dataset_generator: Dataset generator for channel simulation\n",
    "        \n",
    "    Returns:\n",
    "        Dictionary of outputs\n",
    "    \"\"\"\n",
    "    # ----- Transmitter Side -----\n",
    "    # Encode the message and obtain the baseband symbol\n",
    "    x_encoded = encoder(batch['m_onehot'])\n",
    "    real = x_encoded[:, 0]\n",
    "    imag = x_encoded[:, 1]\n",
    "\n",
    "    # Combine into complex and reshape to [B, 1]\n",
    "    x_complex = torch.complex(real, imag).unsqueeze(1)  # [B, 1]\n",
    "    # Apply beamformer\n",
    "    v = beamformer(batch['bf_params'])\n",
    "    \n",
    "    \n",
    "    # Simulate radar and communication channels\n",
    "\n",
    "\n",
    "    kappa=generate_comm_channel_gain(v, batch['v_true'], sigma_c=1.0)\n",
    "    radar_signal, comm_signal = simulate_channels_real(\n",
    "        x_complex, v, batch['theta_true'], batch['t'], kappa , batch['radar_snr'], batch['comm_snr']\n",
    "    )\n",
    "    \n",
    "    # ----- Radar Receiver Processing -----\n",
    "    # Angle estimation\n",
    "    theta_pred = angle_estimator(radar_signal)\n",
    "    \n",
    "    # Uncertainty estimation\n",
    "    sigma = uncertainty_estimator(radar_signal)\n",
    "    \n",
    "    # Target detection\n",
    "    q = presence_detector(radar_signal)\n",
    "    \n",
    "    # ----- Communication Receiver Processing -----\n",
    "    # Message decoding\n",
    "    m_pred = comm_receiver(comm_signal,kappa)\n",
    "    \n",
    "    return {\n",
    "        'theta_pred': theta_pred,\n",
    "        'sigma': sigma,\n",
    "        'q': q,\n",
    "        'm_pred': m_pred\n",
    "    }\n",
    "\n",
    "def train_isac_system(\n",
    "    M, K,\n",
    "    encoder, beamformer, presence_detector, angle_estimator, \n",
    "    uncertainty_estimator, comm_receiver,\n",
    "    batch_size,\n",
    "    num_samples,\n",
    "    radar_snr_range,\n",
    "    comm_snr_range,\n",
    "    angle_range,\n",
    "    target_presence_prob,\n",
    "    learning_rate=0.001,\n",
    "    r_tradeoff=0.09,\n",
    "    num_epochs_phase1=10,\n",
    "    num_epochs_phase2=10,\n",
    "    num_epochs_phase3=10,\n",
    "    num_epochs_joint=20,\n",
    "):\n",
    "    \"\"\"\n",
    "    Train the ISAC system using the phased approach.\n",
    "    \n",
    "    Args:\n",
    "        M: Dimension of the message space\n",
    "        K: Dimension of the transmitted signal\n",
    "        encoder, beamformer, presence_detector, angle_estimator, \n",
    "        uncertainty_estimator, comm_receiver: Model components\n",
    "        learning_rate: Learning rate for optimization\n",
    "        batch_size: Batch size for training\n",
    "        num_samples: Total number of samples to generate\n",
    "        radar_snr_range: Range of SNR values for radar channel (in dB)\n",
    "        comm_snr_range: Range of SNR values for communication channel (in dB)\n",
    "        angle_range: Range of target angles (in radians)\n",
    "        target_presence_prob: Probability of target presence\n",
    "        r_tradeoff: Tradeoff parameter for ISAC loss\n",
    "        num_epochs_phase1/2/3/joint: Number of epochs for each training phase\n",
    "        checkpoint_dir: Directory to save model checkpoints\n",
    "        device: Device to use for training\n",
    "    \"\"\"\n",
    "    # -------------------------------\n",
    "    # Phase 1: Train Radar Regression with Modified MSE Loss\n",
    "    # -------------------------------\n",
    "    print(\"Phase 1: Training Angle Estimator with Modified MSE Loss\")\n",
    "    \n",
    "    # Parameters for Phase 1\n",
    "    params_phase1 = list(angle_estimator.parameters())\n",
    "    optimizer_phase1 = optim.Adam(params_phase1, lr=learning_rate)\n",
    "    \n",
    "    for epoch in range(num_epochs_phase1):\n",
    "        total_loss = 0.0\n",
    "        num_batches = 0\n",
    "        \n",
    "        print(f\"Phase 1 - Epoch {epoch+1}/{num_epochs_phase1}\")\n",
    "        for batch in tqdm(generate_isac_dataset(M,K,num_samples,batch_size\n",
    ",radar_snr_range\n",
    ",comm_snr_range\n",
    ",theta_range\n",
    ",v_range\n",
    ",target_presence_prob)):\n",
    "            \n",
    "            optimizer_phase1.zero_grad()\n",
    "            \n",
    "            # Forward pass through all components\n",
    "            outputs = forward_pass(\n",
    "                encoder, beamformer, presence_detector, angle_estimator, \n",
    "                uncertainty_estimator, comm_receiver, batch\n",
    "            )\n",
    "            \n",
    "            # Compute MSE loss only on target-present samples\n",
    "            mask = (batch['t'].view(-1) == 1)\n",
    "            if mask.sum() > 0:\n",
    "                mse_loss = ((batch['theta_true'][mask] - outputs['theta_pred'][mask]) ** 2).mean()\n",
    "            else:\n",
    "                mse_loss = torch.tensor(0.0, device=device)\n",
    "            \n",
    "            # Weight by the empirical probability of target presence\n",
    "            p_target = batch['t'].float().mean()\n",
    "            loss_phase1 = p_target * mse_loss\n",
    "            \n",
    "            loss_phase1.backward()\n",
    "            optimizer_phase1.step()\n",
    "            \n",
    "            total_loss += loss_phase1.item()\n",
    "            num_batches += 1\n",
    "        \n",
    "        avg_loss = total_loss / num_batches\n",
    "        print(f\"Phase 1 - Epoch {epoch+1} - Average Loss: {avg_loss:.6f}\")\n",
    "    \n",
    "    # -------------------------------\n",
    "    # Phase 2: Train Radar Regression (Angle & Uncertainty) Using Regression NLL Loss\n",
    "    # -------------------------------\n",
    "    print(\"\\nPhase 2: Training Uncertainty Estimator with Regression NLL Loss\")\n",
    "    \n",
    "    # Freeze angle estimator parameters\n",
    "    for param in angle_estimator.parameters():\n",
    "        param.requires_grad = False\n",
    "    \n",
    "    # Parameters for Phase 2\n",
    "    params_phase2 = list(uncertainty_estimator.parameters())\n",
    "    optimizer_phase2 = optim.Adam(params_phase2, lr=learning_rate)\n",
    "    \n",
    "    for epoch in range(num_epochs_phase2):\n",
    "        total_loss = 0.0\n",
    "        num_batches = 0\n",
    "        \n",
    "        print(f\"Phase 2 - Epoch {epoch+1}/{num_epochs_phase2}\")\n",
    "        for batch in tqdm(generate_isac_dataset(M,K,num_samples,batch_size\n",
    ",radar_snr_range\n",
    ",comm_snr_range\n",
    ",theta_range\n",
    ",v_range\n",
    ",target_presence_prob)):\n",
    "            \n",
    "            optimizer_phase2.zero_grad()\n",
    "            \n",
    "            # Forward pass through all components\n",
    "            outputs = forward_pass(\n",
    "                encoder, beamformer, presence_detector, angle_estimator, \n",
    "                uncertainty_estimator, comm_receiver, batch\n",
    "            )\n",
    "            \n",
    "            # Compute regression NLL loss on target-present samples\n",
    "            mask = (batch['t'].view(-1) == 1)\n",
    "            loss_phase2 = target_regression_loss(\n",
    "                outputs['theta_pred'],outputs['sigma'], batch['theta_true'], mask\n",
    "            )\n",
    "            \n",
    "            loss_phase2.backward()\n",
    "            optimizer_phase2.step()\n",
    "            \n",
    "            total_loss += loss_phase2.item()\n",
    "            num_batches += 1\n",
    "        \n",
    "        avg_loss = total_loss / num_batches\n",
    "        print(f\"Phase 2 - Epoch {epoch+1} - Average Loss: {avg_loss:.6f}\")\n",
    "        \n",
    "    # -------------------------------\n",
    "    # Phase 3: Train Radar Detection (Presence Detector) Using Detection Loss\n",
    "    # -------------------------------\n",
    "    print(\"\\nPhase 3: Training Presence Detector with Detection Loss\")\n",
    "    \n",
    "    # Freeze angle estimator and uncertainty estimator parameters\n",
    "    for param in angle_estimator.parameters():\n",
    "        param.requires_grad = False\n",
    "    for param in uncertainty_estimator.parameters():\n",
    "        param.requires_grad = False\n",
    "    \n",
    "    # Parameters for Phase 3\n",
    "    params_phase3 = list(presence_detector.parameters())\n",
    "    optimizer_phase3 = optim.Adam(params_phase3, lr=learning_rate)\n",
    "    \n",
    "    for epoch in range(num_epochs_phase3):\n",
    "        total_loss = 0.0\n",
    "        num_batches = 0\n",
    "        \n",
    "        print(f\"Phase 3 - Epoch {epoch+1}/{num_epochs_phase3}\")\n",
    "        for batch in tqdm(generate_isac_dataset(M,K,num_samples,batch_size\n",
    ",radar_snr_range\n",
    ",comm_snr_range\n",
    ",theta_range\n",
    ",v_range\n",
    ",target_presence_prob)):\n",
    "            \n",
    "            optimizer_phase3.zero_grad()\n",
    "            \n",
    "            # Forward pass through all components\n",
    "            outputs = forward_pass(\n",
    "                encoder, beamformer, presence_detector, angle_estimator,\n",
    "                uncertainty_estimator, comm_receiver, batch\n",
    "            )\n",
    "            \n",
    "            # Compute detection loss (BCE)\n",
    "            loss_phase3 = target_detection_loss(outputs['q'], batch['t'])\n",
    "            \n",
    "            loss_phase3.backward()\n",
    "            optimizer_phase3.step()\n",
    "            \n",
    "            total_loss += loss_phase3.item()\n",
    "            num_batches += 1\n",
    "        \n",
    "        avg_loss = total_loss / num_batches\n",
    "        print(f\"Phase 3 - Epoch {epoch+1} - Average Loss: {avg_loss:.6f}\")\n",
    "    \n",
    "    # -------------------------------\n",
    "    # Joint ISAC Training (Full Training)\n",
    "    # -------------------------------\n",
    "    print(\"\\nJoint ISAC Training with Full Loss\")\n",
    "    \n",
    "    # Unfreeze all parameters\n",
    "    for param in angle_estimator.parameters():\n",
    "        param.requires_grad = True\n",
    "    for param in uncertainty_estimator.parameters():\n",
    "        param.requires_grad = True\n",
    "    for param in presence_detector.parameters():\n",
    "        param.requires_grad = True\n",
    "    \n",
    "    # Parameters for joint training\n",
    "    joint_params = (\n",
    "        list(encoder.parameters()) +\n",
    "        list(beamformer.parameters()) +\n",
    "        list(presence_detector.parameters()) +\n",
    "        list(angle_estimator.parameters()) +\n",
    "        list(uncertainty_estimator.parameters()) +\n",
    "        list(comm_receiver.parameters())\n",
    "    )\n",
    "    \n",
    "    optimizer_joint = optim.Adam(joint_params, lr=learning_rate)\n",
    "    \n",
    "    for epoch in range(num_epochs_joint):\n",
    "        total_loss = 0.0\n",
    "        total_radar_loss = 0.0\n",
    "        total_comm_loss = 0.0\n",
    "        num_batches = 0\n",
    "        \n",
    "        print(f\"Joint Training - Epoch {epoch+1}/{num_epochs_joint}\")\n",
    "        for batch in tqdm(generate_isac_dataset(M,K,num_samples,batch_size\n",
    ",radar_snr_range\n",
    ",comm_snr_range\n",
    ",theta_range\n",
    ",v_range\n",
    ",target_presence_prob)):\n",
    "            \n",
    "            optimizer_joint.zero_grad()\n",
    "            \n",
    "            # Forward pass through all components\n",
    "            outputs = forward_pass(\n",
    "                encoder, beamformer, presence_detector, angle_estimator,\n",
    "                uncertainty_estimator, comm_receiver, batch\n",
    "            )\n",
    "            \n",
    "            # Compute radar loss (combined detection and regression)\n",
    "            loss_radar = overall_radar_loss(\n",
    "                outputs['q'], batch['t'], \n",
    "                outputs['theta_pred'],outputs['sigma'], batch['theta_true']\n",
    "            )\n",
    "            \n",
    "            # Compute communication loss\n",
    "            loss_comm = communication_loss(\n",
    "                outputs['m_pred'], torch.argmax(batch['m_onehot'], dim=1)\n",
    "            )\n",
    "            \n",
    "            # Compute overall ISAC loss\n",
    "            loss_joint = isac_loss(loss_radar, loss_comm, r_tradeoff)\n",
    "            \n",
    "            loss_joint.backward()\n",
    "            optimizer_joint.step()\n",
    "            \n",
    "            total_loss += loss_joint.item()\n",
    "            total_radar_loss += loss_radar.item()\n",
    "            total_comm_loss += loss_comm.item()\n",
    "            num_batches += 1\n",
    "        \n",
    "        avg_loss = total_loss / num_batches\n",
    "        avg_radar_loss = total_radar_loss / num_batches\n",
    "        avg_comm_loss = total_comm_loss / num_batches\n",
    "        \n",
    "        print(f\"Joint Training - Epoch {epoch+1} - Average Loss: {avg_loss:.6f}\")\n",
    "        print(f\"  Radar Loss: {avg_radar_loss:.6f}, Comm Loss: {avg_comm_loss:.6f}\")\n",
    "    \n",
    "    print(\"Training completed!\")\n",
    "    return {\n",
    "        'encoder': encoder,\n",
    "        'beamformer': beamformer,\n",
    "        'presence_detector': presence_detector,\n",
    "        'angle_estimator': angle_estimator,\n",
    "        'uncertainty_estimator': uncertainty_estimator,\n",
    "        'comm_receiver': comm_receiver\n",
    "    }"
   ]
  },
  {
   "cell_type": "code",
   "execution_count": 34,
   "id": "42a240a5-1d04-4ce8-bcb3-136b2052b73a",
   "metadata": {},
   "outputs": [
    {
     "name": "stdout",
     "output_type": "stream",
     "text": [
      "Phase 1: Training Angle Estimator with Modified MSE Loss\n",
      "Phase 1 - Epoch 1/50\n"
     ]
    },
    {
     "name": "stderr",
     "output_type": "stream",
     "text": [
      "1it [00:00,  1.67it/s]\n"
     ]
    },
    {
     "name": "stdout",
     "output_type": "stream",
     "text": [
      "Phase 1 - Epoch 1 - Average Loss: 66.131821\n",
      "Phase 1 - Epoch 2/50\n"
     ]
    },
    {
     "name": "stderr",
     "output_type": "stream",
     "text": [
      "1it [00:00,  3.57it/s]\n"
     ]
    },
    {
     "name": "stdout",
     "output_type": "stream",
     "text": [
      "Phase 1 - Epoch 2 - Average Loss: 71.454109\n",
      "Phase 1 - Epoch 3/50\n"
     ]
    },
    {
     "name": "stderr",
     "output_type": "stream",
     "text": [
      "1it [00:00,  3.34it/s]\n"
     ]
    },
    {
     "name": "stdout",
     "output_type": "stream",
     "text": [
      "Phase 1 - Epoch 3 - Average Loss: 66.485138\n",
      "Phase 1 - Epoch 4/50\n"
     ]
    },
    {
     "name": "stderr",
     "output_type": "stream",
     "text": [
      "1it [00:00,  2.24it/s]\n"
     ]
    },
    {
     "name": "stdout",
     "output_type": "stream",
     "text": [
      "Phase 1 - Epoch 4 - Average Loss: 64.032188\n",
      "Phase 1 - Epoch 5/50\n"
     ]
    },
    {
     "name": "stderr",
     "output_type": "stream",
     "text": [
      "1it [00:00,  3.23it/s]\n"
     ]
    },
    {
     "name": "stdout",
     "output_type": "stream",
     "text": [
      "Phase 1 - Epoch 5 - Average Loss: 68.250648\n",
      "Phase 1 - Epoch 6/50\n"
     ]
    },
    {
     "name": "stderr",
     "output_type": "stream",
     "text": [
      "1it [00:00,  2.88it/s]\n"
     ]
    },
    {
     "name": "stdout",
     "output_type": "stream",
     "text": [
      "Phase 1 - Epoch 6 - Average Loss: 74.482933\n",
      "Phase 1 - Epoch 7/50\n"
     ]
    },
    {
     "name": "stderr",
     "output_type": "stream",
     "text": [
      "1it [00:00,  2.49it/s]\n"
     ]
    },
    {
     "name": "stdout",
     "output_type": "stream",
     "text": [
      "Phase 1 - Epoch 7 - Average Loss: 71.527756\n",
      "Phase 1 - Epoch 8/50\n"
     ]
    },
    {
     "name": "stderr",
     "output_type": "stream",
     "text": [
      "1it [00:00,  2.91it/s]\n"
     ]
    },
    {
     "name": "stdout",
     "output_type": "stream",
     "text": [
      "Phase 1 - Epoch 8 - Average Loss: 68.120903\n",
      "Phase 1 - Epoch 9/50\n"
     ]
    },
    {
     "name": "stderr",
     "output_type": "stream",
     "text": [
      "1it [00:00,  2.42it/s]\n"
     ]
    },
    {
     "name": "stdout",
     "output_type": "stream",
     "text": [
      "Phase 1 - Epoch 9 - Average Loss: 67.548073\n",
      "Phase 1 - Epoch 10/50\n"
     ]
    },
    {
     "name": "stderr",
     "output_type": "stream",
     "text": [
      "1it [00:00,  2.94it/s]\n"
     ]
    },
    {
     "name": "stdout",
     "output_type": "stream",
     "text": [
      "Phase 1 - Epoch 10 - Average Loss: 63.700512\n",
      "Phase 1 - Epoch 11/50\n"
     ]
    },
    {
     "name": "stderr",
     "output_type": "stream",
     "text": [
      "1it [00:00,  3.68it/s]\n"
     ]
    },
    {
     "name": "stdout",
     "output_type": "stream",
     "text": [
      "Phase 1 - Epoch 11 - Average Loss: 66.905487\n",
      "Phase 1 - Epoch 12/50\n"
     ]
    },
    {
     "name": "stderr",
     "output_type": "stream",
     "text": [
      "1it [00:00,  3.11it/s]\n"
     ]
    },
    {
     "name": "stdout",
     "output_type": "stream",
     "text": [
      "Phase 1 - Epoch 12 - Average Loss: 69.654556\n",
      "Phase 1 - Epoch 13/50\n"
     ]
    },
    {
     "name": "stderr",
     "output_type": "stream",
     "text": [
      "1it [00:00,  2.59it/s]\n"
     ]
    },
    {
     "name": "stdout",
     "output_type": "stream",
     "text": [
      "Phase 1 - Epoch 13 - Average Loss: 66.996834\n",
      "Phase 1 - Epoch 14/50\n"
     ]
    },
    {
     "name": "stderr",
     "output_type": "stream",
     "text": [
      "1it [00:00,  2.96it/s]\n"
     ]
    },
    {
     "name": "stdout",
     "output_type": "stream",
     "text": [
      "Phase 1 - Epoch 14 - Average Loss: 65.431274\n",
      "Phase 1 - Epoch 15/50\n"
     ]
    },
    {
     "name": "stderr",
     "output_type": "stream",
     "text": [
      "1it [00:00,  3.59it/s]\n"
     ]
    },
    {
     "name": "stdout",
     "output_type": "stream",
     "text": [
      "Phase 1 - Epoch 15 - Average Loss: 74.954590\n",
      "Phase 1 - Epoch 16/50\n"
     ]
    },
    {
     "name": "stderr",
     "output_type": "stream",
     "text": [
      "1it [00:00,  3.19it/s]\n"
     ]
    },
    {
     "name": "stdout",
     "output_type": "stream",
     "text": [
      "Phase 1 - Epoch 16 - Average Loss: 71.524391\n",
      "Phase 1 - Epoch 17/50\n"
     ]
    },
    {
     "name": "stderr",
     "output_type": "stream",
     "text": [
      "1it [00:00,  2.53it/s]\n"
     ]
    },
    {
     "name": "stdout",
     "output_type": "stream",
     "text": [
      "Phase 1 - Epoch 17 - Average Loss: 68.284073\n",
      "Phase 1 - Epoch 18/50\n"
     ]
    },
    {
     "name": "stderr",
     "output_type": "stream",
     "text": [
      "1it [00:00,  2.81it/s]\n"
     ]
    },
    {
     "name": "stdout",
     "output_type": "stream",
     "text": [
      "Phase 1 - Epoch 18 - Average Loss: 71.795433\n",
      "Phase 1 - Epoch 19/50\n"
     ]
    },
    {
     "name": "stderr",
     "output_type": "stream",
     "text": [
      "1it [00:00,  3.66it/s]\n"
     ]
    },
    {
     "name": "stdout",
     "output_type": "stream",
     "text": [
      "Phase 1 - Epoch 19 - Average Loss: 67.537659\n",
      "Phase 1 - Epoch 20/50\n"
     ]
    },
    {
     "name": "stderr",
     "output_type": "stream",
     "text": [
      "1it [00:00,  2.92it/s]\n"
     ]
    },
    {
     "name": "stdout",
     "output_type": "stream",
     "text": [
      "Phase 1 - Epoch 20 - Average Loss: 67.589943\n",
      "Phase 1 - Epoch 21/50\n"
     ]
    },
    {
     "name": "stderr",
     "output_type": "stream",
     "text": [
      "1it [00:00,  3.64it/s]\n"
     ]
    },
    {
     "name": "stdout",
     "output_type": "stream",
     "text": [
      "Phase 1 - Epoch 21 - Average Loss: 66.033226\n",
      "Phase 1 - Epoch 22/50\n"
     ]
    },
    {
     "name": "stderr",
     "output_type": "stream",
     "text": [
      "1it [00:00,  3.05it/s]\n"
     ]
    },
    {
     "name": "stdout",
     "output_type": "stream",
     "text": [
      "Phase 1 - Epoch 22 - Average Loss: 65.936111\n",
      "Phase 1 - Epoch 23/50\n"
     ]
    },
    {
     "name": "stderr",
     "output_type": "stream",
     "text": [
      "1it [00:00,  2.57it/s]\n"
     ]
    },
    {
     "name": "stdout",
     "output_type": "stream",
     "text": [
      "Phase 1 - Epoch 23 - Average Loss: 66.265984\n",
      "Phase 1 - Epoch 24/50\n"
     ]
    },
    {
     "name": "stderr",
     "output_type": "stream",
     "text": [
      "1it [00:00,  2.85it/s]\n"
     ]
    },
    {
     "name": "stdout",
     "output_type": "stream",
     "text": [
      "Phase 1 - Epoch 24 - Average Loss: 60.640560\n",
      "Phase 1 - Epoch 25/50\n"
     ]
    },
    {
     "name": "stderr",
     "output_type": "stream",
     "text": [
      "1it [00:00,  2.55it/s]\n"
     ]
    },
    {
     "name": "stdout",
     "output_type": "stream",
     "text": [
      "Phase 1 - Epoch 25 - Average Loss: 70.376625\n",
      "Phase 1 - Epoch 26/50\n"
     ]
    },
    {
     "name": "stderr",
     "output_type": "stream",
     "text": [
      "1it [00:00,  3.08it/s]\n"
     ]
    },
    {
     "name": "stdout",
     "output_type": "stream",
     "text": [
      "Phase 1 - Epoch 26 - Average Loss: 69.056473\n",
      "Phase 1 - Epoch 27/50\n"
     ]
    },
    {
     "name": "stderr",
     "output_type": "stream",
     "text": [
      "1it [00:00,  3.65it/s]\n"
     ]
    },
    {
     "name": "stdout",
     "output_type": "stream",
     "text": [
      "Phase 1 - Epoch 27 - Average Loss: 64.893173\n",
      "Phase 1 - Epoch 28/50\n"
     ]
    },
    {
     "name": "stderr",
     "output_type": "stream",
     "text": [
      "1it [00:00,  2.99it/s]\n"
     ]
    },
    {
     "name": "stdout",
     "output_type": "stream",
     "text": [
      "Phase 1 - Epoch 28 - Average Loss: 68.990166\n",
      "Phase 1 - Epoch 29/50\n"
     ]
    },
    {
     "name": "stderr",
     "output_type": "stream",
     "text": [
      "1it [00:00,  3.91it/s]\n"
     ]
    },
    {
     "name": "stdout",
     "output_type": "stream",
     "text": [
      "Phase 1 - Epoch 29 - Average Loss: 62.390984\n",
      "Phase 1 - Epoch 30/50\n"
     ]
    },
    {
     "name": "stderr",
     "output_type": "stream",
     "text": [
      "1it [00:00,  3.06it/s]\n"
     ]
    },
    {
     "name": "stdout",
     "output_type": "stream",
     "text": [
      "Phase 1 - Epoch 30 - Average Loss: 65.481743\n",
      "Phase 1 - Epoch 31/50\n"
     ]
    },
    {
     "name": "stderr",
     "output_type": "stream",
     "text": [
      "1it [00:00,  2.61it/s]\n"
     ]
    },
    {
     "name": "stdout",
     "output_type": "stream",
     "text": [
      "Phase 1 - Epoch 31 - Average Loss: 66.736031\n",
      "Phase 1 - Epoch 32/50\n"
     ]
    },
    {
     "name": "stderr",
     "output_type": "stream",
     "text": [
      "1it [00:00,  2.97it/s]\n"
     ]
    },
    {
     "name": "stdout",
     "output_type": "stream",
     "text": [
      "Phase 1 - Epoch 32 - Average Loss: 70.399437\n",
      "Phase 1 - Epoch 33/50\n"
     ]
    },
    {
     "name": "stderr",
     "output_type": "stream",
     "text": [
      "1it [00:00,  3.51it/s]\n"
     ]
    },
    {
     "name": "stdout",
     "output_type": "stream",
     "text": [
      "Phase 1 - Epoch 33 - Average Loss: 65.851143\n",
      "Phase 1 - Epoch 34/50\n"
     ]
    },
    {
     "name": "stderr",
     "output_type": "stream",
     "text": [
      "1it [00:00,  3.14it/s]\n"
     ]
    },
    {
     "name": "stdout",
     "output_type": "stream",
     "text": [
      "Phase 1 - Epoch 34 - Average Loss: 67.937202\n",
      "Phase 1 - Epoch 35/50\n"
     ]
    },
    {
     "name": "stderr",
     "output_type": "stream",
     "text": [
      "1it [00:00,  3.61it/s]\n"
     ]
    },
    {
     "name": "stdout",
     "output_type": "stream",
     "text": [
      "Phase 1 - Epoch 35 - Average Loss: 63.988686\n",
      "Phase 1 - Epoch 36/50\n"
     ]
    },
    {
     "name": "stderr",
     "output_type": "stream",
     "text": [
      "1it [00:00,  3.16it/s]\n"
     ]
    },
    {
     "name": "stdout",
     "output_type": "stream",
     "text": [
      "Phase 1 - Epoch 36 - Average Loss: 63.038128\n",
      "Phase 1 - Epoch 37/50\n"
     ]
    },
    {
     "name": "stderr",
     "output_type": "stream",
     "text": [
      "1it [00:00,  2.55it/s]\n"
     ]
    },
    {
     "name": "stdout",
     "output_type": "stream",
     "text": [
      "Phase 1 - Epoch 37 - Average Loss: 67.990791\n",
      "Phase 1 - Epoch 38/50\n"
     ]
    },
    {
     "name": "stderr",
     "output_type": "stream",
     "text": [
      "1it [00:00,  2.93it/s]\n"
     ]
    },
    {
     "name": "stdout",
     "output_type": "stream",
     "text": [
      "Phase 1 - Epoch 38 - Average Loss: 60.678802\n",
      "Phase 1 - Epoch 39/50\n"
     ]
    },
    {
     "name": "stderr",
     "output_type": "stream",
     "text": [
      "1it [00:00,  3.41it/s]\n"
     ]
    },
    {
     "name": "stdout",
     "output_type": "stream",
     "text": [
      "Phase 1 - Epoch 39 - Average Loss: 68.838989\n",
      "Phase 1 - Epoch 40/50\n"
     ]
    },
    {
     "name": "stderr",
     "output_type": "stream",
     "text": [
      "1it [00:00,  3.13it/s]\n"
     ]
    },
    {
     "name": "stdout",
     "output_type": "stream",
     "text": [
      "Phase 1 - Epoch 40 - Average Loss: 67.055099\n",
      "Phase 1 - Epoch 41/50\n"
     ]
    },
    {
     "name": "stderr",
     "output_type": "stream",
     "text": [
      "1it [00:00,  2.45it/s]\n"
     ]
    },
    {
     "name": "stdout",
     "output_type": "stream",
     "text": [
      "Phase 1 - Epoch 41 - Average Loss: 68.212051\n",
      "Phase 1 - Epoch 42/50\n"
     ]
    },
    {
     "name": "stderr",
     "output_type": "stream",
     "text": [
      "1it [00:00,  2.94it/s]\n"
     ]
    },
    {
     "name": "stdout",
     "output_type": "stream",
     "text": [
      "Phase 1 - Epoch 42 - Average Loss: 68.380104\n",
      "Phase 1 - Epoch 43/50\n"
     ]
    },
    {
     "name": "stderr",
     "output_type": "stream",
     "text": [
      "1it [00:00,  3.60it/s]\n"
     ]
    },
    {
     "name": "stdout",
     "output_type": "stream",
     "text": [
      "Phase 1 - Epoch 43 - Average Loss: 68.123177\n",
      "Phase 1 - Epoch 44/50\n"
     ]
    },
    {
     "name": "stderr",
     "output_type": "stream",
     "text": [
      "1it [00:00,  3.02it/s]\n"
     ]
    },
    {
     "name": "stdout",
     "output_type": "stream",
     "text": [
      "Phase 1 - Epoch 44 - Average Loss: 64.616455\n",
      "Phase 1 - Epoch 45/50\n"
     ]
    },
    {
     "name": "stderr",
     "output_type": "stream",
     "text": [
      "1it [00:00,  3.26it/s]\n"
     ]
    },
    {
     "name": "stdout",
     "output_type": "stream",
     "text": [
      "Phase 1 - Epoch 45 - Average Loss: 63.524609\n",
      "Phase 1 - Epoch 46/50\n"
     ]
    },
    {
     "name": "stderr",
     "output_type": "stream",
     "text": [
      "1it [00:00,  2.48it/s]\n"
     ]
    },
    {
     "name": "stdout",
     "output_type": "stream",
     "text": [
      "Phase 1 - Epoch 46 - Average Loss: 69.296494\n",
      "Phase 1 - Epoch 47/50\n"
     ]
    },
    {
     "name": "stderr",
     "output_type": "stream",
     "text": [
      "1it [00:00,  3.30it/s]\n"
     ]
    },
    {
     "name": "stdout",
     "output_type": "stream",
     "text": [
      "Phase 1 - Epoch 47 - Average Loss: 66.580200\n",
      "Phase 1 - Epoch 48/50\n"
     ]
    },
    {
     "name": "stderr",
     "output_type": "stream",
     "text": [
      "1it [00:00,  2.90it/s]\n"
     ]
    },
    {
     "name": "stdout",
     "output_type": "stream",
     "text": [
      "Phase 1 - Epoch 48 - Average Loss: 68.030617\n",
      "Phase 1 - Epoch 49/50\n"
     ]
    },
    {
     "name": "stderr",
     "output_type": "stream",
     "text": [
      "1it [00:00,  3.60it/s]\n"
     ]
    },
    {
     "name": "stdout",
     "output_type": "stream",
     "text": [
      "Phase 1 - Epoch 49 - Average Loss: 67.595726\n",
      "Phase 1 - Epoch 50/50\n"
     ]
    },
    {
     "name": "stderr",
     "output_type": "stream",
     "text": [
      "1it [00:00,  2.97it/s]\n"
     ]
    },
    {
     "name": "stdout",
     "output_type": "stream",
     "text": [
      "Phase 1 - Epoch 50 - Average Loss: 73.667870\n",
      "\n",
      "Phase 2: Training Uncertainty Estimator with Regression NLL Loss\n",
      "Phase 2 - Epoch 1/50\n"
     ]
    },
    {
     "name": "stderr",
     "output_type": "stream",
     "text": [
      "1it [00:00,  2.31it/s]\n"
     ]
    },
    {
     "name": "stdout",
     "output_type": "stream",
     "text": [
      "Phase 2 - Epoch 1 - Average Loss: 1753041993728.000000\n",
      "Phase 2 - Epoch 2/50\n"
     ]
    },
    {
     "name": "stderr",
     "output_type": "stream",
     "text": [
      "1it [00:00,  2.97it/s]\n"
     ]
    },
    {
     "name": "stdout",
     "output_type": "stream",
     "text": [
      "Phase 2 - Epoch 2 - Average Loss: 1349707366400.000000\n",
      "Phase 2 - Epoch 3/50\n"
     ]
    },
    {
     "name": "stderr",
     "output_type": "stream",
     "text": [
      "1it [00:00,  3.37it/s]\n"
     ]
    },
    {
     "name": "stdout",
     "output_type": "stream",
     "text": [
      "Phase 2 - Epoch 3 - Average Loss: 168423948288.000000\n",
      "Phase 2 - Epoch 4/50\n"
     ]
    },
    {
     "name": "stderr",
     "output_type": "stream",
     "text": [
      "1it [00:00,  2.87it/s]\n"
     ]
    },
    {
     "name": "stdout",
     "output_type": "stream",
     "text": [
      "Phase 2 - Epoch 4 - Average Loss: 6759967232.000000\n",
      "Phase 2 - Epoch 5/50\n"
     ]
    },
    {
     "name": "stderr",
     "output_type": "stream",
     "text": [
      "1it [00:00,  2.58it/s]\n"
     ]
    },
    {
     "name": "stdout",
     "output_type": "stream",
     "text": [
      "Phase 2 - Epoch 5 - Average Loss: 104444649472.000000\n",
      "Phase 2 - Epoch 6/50\n"
     ]
    },
    {
     "name": "stderr",
     "output_type": "stream",
     "text": [
      "1it [00:00,  2.93it/s]\n"
     ]
    },
    {
     "name": "stdout",
     "output_type": "stream",
     "text": [
      "Phase 2 - Epoch 6 - Average Loss: 72407097344.000000\n",
      "Phase 2 - Epoch 7/50\n"
     ]
    },
    {
     "name": "stderr",
     "output_type": "stream",
     "text": [
      "1it [00:00,  3.44it/s]\n"
     ]
    },
    {
     "name": "stdout",
     "output_type": "stream",
     "text": [
      "Phase 2 - Epoch 7 - Average Loss: 5430.839355\n",
      "Phase 2 - Epoch 8/50\n"
     ]
    },
    {
     "name": "stderr",
     "output_type": "stream",
     "text": [
      "1it [00:00,  2.96it/s]\n"
     ]
    },
    {
     "name": "stdout",
     "output_type": "stream",
     "text": [
      "Phase 2 - Epoch 8 - Average Loss: 7246.736328\n",
      "Phase 2 - Epoch 9/50\n"
     ]
    },
    {
     "name": "stderr",
     "output_type": "stream",
     "text": [
      "1it [00:00,  2.38it/s]\n"
     ]
    },
    {
     "name": "stdout",
     "output_type": "stream",
     "text": [
      "Phase 2 - Epoch 9 - Average Loss: 4752.646484\n",
      "Phase 2 - Epoch 10/50\n"
     ]
    },
    {
     "name": "stderr",
     "output_type": "stream",
     "text": [
      "1it [00:00,  2.79it/s]\n"
     ]
    },
    {
     "name": "stdout",
     "output_type": "stream",
     "text": [
      "Phase 2 - Epoch 10 - Average Loss: 4609.671387\n",
      "Phase 2 - Epoch 11/50\n"
     ]
    },
    {
     "name": "stderr",
     "output_type": "stream",
     "text": [
      "1it [00:00,  2.45it/s]\n"
     ]
    },
    {
     "name": "stdout",
     "output_type": "stream",
     "text": [
      "Phase 2 - Epoch 11 - Average Loss: 15216521216.000000\n",
      "Phase 2 - Epoch 12/50\n"
     ]
    },
    {
     "name": "stderr",
     "output_type": "stream",
     "text": [
      "1it [00:00,  2.81it/s]\n"
     ]
    },
    {
     "name": "stdout",
     "output_type": "stream",
     "text": [
      "Phase 2 - Epoch 12 - Average Loss: 3863.490723\n",
      "Phase 2 - Epoch 13/50\n"
     ]
    },
    {
     "name": "stderr",
     "output_type": "stream",
     "text": [
      "1it [00:00,  2.51it/s]\n"
     ]
    },
    {
     "name": "stdout",
     "output_type": "stream",
     "text": [
      "Phase 2 - Epoch 13 - Average Loss: 4185.907227\n",
      "Phase 2 - Epoch 14/50\n"
     ]
    },
    {
     "name": "stderr",
     "output_type": "stream",
     "text": [
      "1it [00:00,  2.70it/s]\n"
     ]
    },
    {
     "name": "stdout",
     "output_type": "stream",
     "text": [
      "Phase 2 - Epoch 14 - Average Loss: 6812473344.000000\n",
      "Phase 2 - Epoch 15/50\n"
     ]
    },
    {
     "name": "stderr",
     "output_type": "stream",
     "text": [
      "1it [00:00,  2.48it/s]\n"
     ]
    },
    {
     "name": "stdout",
     "output_type": "stream",
     "text": [
      "Phase 2 - Epoch 15 - Average Loss: 3813.948242\n",
      "Phase 2 - Epoch 16/50\n"
     ]
    },
    {
     "name": "stderr",
     "output_type": "stream",
     "text": [
      "1it [00:00,  2.99it/s]\n"
     ]
    },
    {
     "name": "stdout",
     "output_type": "stream",
     "text": [
      "Phase 2 - Epoch 16 - Average Loss: 3783.806641\n",
      "Phase 2 - Epoch 17/50\n"
     ]
    },
    {
     "name": "stderr",
     "output_type": "stream",
     "text": [
      "1it [00:00,  2.58it/s]\n"
     ]
    },
    {
     "name": "stdout",
     "output_type": "stream",
     "text": [
      "Phase 2 - Epoch 17 - Average Loss: 3665.038818\n",
      "Phase 2 - Epoch 18/50\n"
     ]
    },
    {
     "name": "stderr",
     "output_type": "stream",
     "text": [
      "1it [00:00,  3.01it/s]\n"
     ]
    },
    {
     "name": "stdout",
     "output_type": "stream",
     "text": [
      "Phase 2 - Epoch 18 - Average Loss: 3610.153809\n",
      "Phase 2 - Epoch 19/50\n"
     ]
    },
    {
     "name": "stderr",
     "output_type": "stream",
     "text": [
      "1it [00:00,  2.48it/s]\n"
     ]
    },
    {
     "name": "stdout",
     "output_type": "stream",
     "text": [
      "Phase 2 - Epoch 19 - Average Loss: 3673.500732\n",
      "Phase 2 - Epoch 20/50\n"
     ]
    },
    {
     "name": "stderr",
     "output_type": "stream",
     "text": [
      "1it [00:00,  2.94it/s]\n"
     ]
    },
    {
     "name": "stdout",
     "output_type": "stream",
     "text": [
      "Phase 2 - Epoch 20 - Average Loss: 3723.308105\n",
      "Phase 2 - Epoch 21/50\n"
     ]
    },
    {
     "name": "stderr",
     "output_type": "stream",
     "text": [
      "1it [00:00,  3.62it/s]\n"
     ]
    },
    {
     "name": "stdout",
     "output_type": "stream",
     "text": [
      "Phase 2 - Epoch 21 - Average Loss: 3420.518799\n",
      "Phase 2 - Epoch 22/50\n"
     ]
    },
    {
     "name": "stderr",
     "output_type": "stream",
     "text": [
      "1it [00:00,  3.02it/s]\n"
     ]
    },
    {
     "name": "stdout",
     "output_type": "stream",
     "text": [
      "Phase 2 - Epoch 22 - Average Loss: 3391.237061\n",
      "Phase 2 - Epoch 23/50\n"
     ]
    },
    {
     "name": "stderr",
     "output_type": "stream",
     "text": [
      "1it [00:00,  2.39it/s]\n"
     ]
    },
    {
     "name": "stdout",
     "output_type": "stream",
     "text": [
      "Phase 2 - Epoch 23 - Average Loss: 3382.151855\n",
      "Phase 2 - Epoch 24/50\n"
     ]
    },
    {
     "name": "stderr",
     "output_type": "stream",
     "text": [
      "1it [00:00,  2.82it/s]\n"
     ]
    },
    {
     "name": "stdout",
     "output_type": "stream",
     "text": [
      "Phase 2 - Epoch 24 - Average Loss: 3227.001953\n",
      "Phase 2 - Epoch 25/50\n"
     ]
    },
    {
     "name": "stderr",
     "output_type": "stream",
     "text": [
      "1it [00:00,  3.36it/s]\n"
     ]
    },
    {
     "name": "stdout",
     "output_type": "stream",
     "text": [
      "Phase 2 - Epoch 25 - Average Loss: 3423.778076\n",
      "Phase 2 - Epoch 26/50\n"
     ]
    },
    {
     "name": "stderr",
     "output_type": "stream",
     "text": [
      "1it [00:00,  2.94it/s]\n"
     ]
    },
    {
     "name": "stdout",
     "output_type": "stream",
     "text": [
      "Phase 2 - Epoch 26 - Average Loss: 3396.187256\n",
      "Phase 2 - Epoch 27/50\n"
     ]
    },
    {
     "name": "stderr",
     "output_type": "stream",
     "text": [
      "1it [00:00,  3.24it/s]\n"
     ]
    },
    {
     "name": "stdout",
     "output_type": "stream",
     "text": [
      "Phase 2 - Epoch 27 - Average Loss: 3748.071045\n",
      "Phase 2 - Epoch 28/50\n"
     ]
    },
    {
     "name": "stderr",
     "output_type": "stream",
     "text": [
      "1it [00:00,  2.91it/s]\n"
     ]
    },
    {
     "name": "stdout",
     "output_type": "stream",
     "text": [
      "Phase 2 - Epoch 28 - Average Loss: 2966.142334\n",
      "Phase 2 - Epoch 29/50\n"
     ]
    },
    {
     "name": "stderr",
     "output_type": "stream",
     "text": [
      "1it [00:00,  3.51it/s]\n"
     ]
    },
    {
     "name": "stdout",
     "output_type": "stream",
     "text": [
      "Phase 2 - Epoch 29 - Average Loss: 2954.296875\n",
      "Phase 2 - Epoch 30/50\n"
     ]
    },
    {
     "name": "stderr",
     "output_type": "stream",
     "text": [
      "1it [00:00,  3.05it/s]\n"
     ]
    },
    {
     "name": "stdout",
     "output_type": "stream",
     "text": [
      "Phase 2 - Epoch 30 - Average Loss: 2947.847168\n",
      "Phase 2 - Epoch 31/50\n"
     ]
    },
    {
     "name": "stderr",
     "output_type": "stream",
     "text": [
      "1it [00:00,  3.64it/s]\n"
     ]
    },
    {
     "name": "stdout",
     "output_type": "stream",
     "text": [
      "Phase 2 - Epoch 31 - Average Loss: 2984.891846\n",
      "Phase 2 - Epoch 32/50\n"
     ]
    },
    {
     "name": "stderr",
     "output_type": "stream",
     "text": [
      "1it [00:00,  3.08it/s]\n"
     ]
    },
    {
     "name": "stdout",
     "output_type": "stream",
     "text": [
      "Phase 2 - Epoch 32 - Average Loss: 2952.370850\n",
      "Phase 2 - Epoch 33/50\n"
     ]
    },
    {
     "name": "stderr",
     "output_type": "stream",
     "text": [
      "1it [00:00,  2.56it/s]\n"
     ]
    },
    {
     "name": "stdout",
     "output_type": "stream",
     "text": [
      "Phase 2 - Epoch 33 - Average Loss: 3064.229492\n",
      "Phase 2 - Epoch 34/50\n"
     ]
    },
    {
     "name": "stderr",
     "output_type": "stream",
     "text": [
      "1it [00:00,  2.75it/s]\n"
     ]
    },
    {
     "name": "stdout",
     "output_type": "stream",
     "text": [
      "Phase 2 - Epoch 34 - Average Loss: 3069.051758\n",
      "Phase 2 - Epoch 35/50\n"
     ]
    },
    {
     "name": "stderr",
     "output_type": "stream",
     "text": [
      "1it [00:00,  2.59it/s]\n"
     ]
    },
    {
     "name": "stdout",
     "output_type": "stream",
     "text": [
      "Phase 2 - Epoch 35 - Average Loss: 2994.400879\n",
      "Phase 2 - Epoch 36/50\n"
     ]
    },
    {
     "name": "stderr",
     "output_type": "stream",
     "text": [
      "1it [00:00,  2.98it/s]\n"
     ]
    },
    {
     "name": "stdout",
     "output_type": "stream",
     "text": [
      "Phase 2 - Epoch 36 - Average Loss: 2852.036133\n",
      "Phase 2 - Epoch 37/50\n"
     ]
    },
    {
     "name": "stderr",
     "output_type": "stream",
     "text": [
      "1it [00:00,  2.55it/s]\n"
     ]
    },
    {
     "name": "stdout",
     "output_type": "stream",
     "text": [
      "Phase 2 - Epoch 37 - Average Loss: 3031.845459\n",
      "Phase 2 - Epoch 38/50\n"
     ]
    },
    {
     "name": "stderr",
     "output_type": "stream",
     "text": [
      "1it [00:00,  2.90it/s]\n"
     ]
    },
    {
     "name": "stdout",
     "output_type": "stream",
     "text": [
      "Phase 2 - Epoch 38 - Average Loss: 2743.593994\n",
      "Phase 2 - Epoch 39/50\n"
     ]
    },
    {
     "name": "stderr",
     "output_type": "stream",
     "text": [
      "1it [00:00,  2.52it/s]\n"
     ]
    },
    {
     "name": "stdout",
     "output_type": "stream",
     "text": [
      "Phase 2 - Epoch 39 - Average Loss: 2763.275879\n",
      "Phase 2 - Epoch 40/50\n"
     ]
    },
    {
     "name": "stderr",
     "output_type": "stream",
     "text": [
      "1it [00:00,  2.92it/s]\n"
     ]
    },
    {
     "name": "stdout",
     "output_type": "stream",
     "text": [
      "Phase 2 - Epoch 40 - Average Loss: 2705.136719\n",
      "Phase 2 - Epoch 41/50\n"
     ]
    },
    {
     "name": "stderr",
     "output_type": "stream",
     "text": [
      "1it [00:00,  3.63it/s]\n"
     ]
    },
    {
     "name": "stdout",
     "output_type": "stream",
     "text": [
      "Phase 2 - Epoch 41 - Average Loss: 2759.076660\n",
      "Phase 2 - Epoch 42/50\n"
     ]
    },
    {
     "name": "stderr",
     "output_type": "stream",
     "text": [
      "1it [00:00,  3.01it/s]\n"
     ]
    },
    {
     "name": "stdout",
     "output_type": "stream",
     "text": [
      "Phase 2 - Epoch 42 - Average Loss: 2809.730957\n",
      "Phase 2 - Epoch 43/50\n"
     ]
    },
    {
     "name": "stderr",
     "output_type": "stream",
     "text": [
      "1it [00:00,  2.59it/s]\n"
     ]
    },
    {
     "name": "stdout",
     "output_type": "stream",
     "text": [
      "Phase 2 - Epoch 43 - Average Loss: 2765.053467\n",
      "Phase 2 - Epoch 44/50\n"
     ]
    },
    {
     "name": "stderr",
     "output_type": "stream",
     "text": [
      "1it [00:00,  2.79it/s]\n"
     ]
    },
    {
     "name": "stdout",
     "output_type": "stream",
     "text": [
      "Phase 2 - Epoch 44 - Average Loss: 2587.423096\n",
      "Phase 2 - Epoch 45/50\n"
     ]
    },
    {
     "name": "stderr",
     "output_type": "stream",
     "text": [
      "1it [00:00,  3.64it/s]\n"
     ]
    },
    {
     "name": "stdout",
     "output_type": "stream",
     "text": [
      "Phase 2 - Epoch 45 - Average Loss: 2740.490723\n",
      "Phase 2 - Epoch 46/50\n"
     ]
    },
    {
     "name": "stderr",
     "output_type": "stream",
     "text": [
      "1it [00:00,  3.02it/s]\n"
     ]
    },
    {
     "name": "stdout",
     "output_type": "stream",
     "text": [
      "Phase 2 - Epoch 46 - Average Loss: 2705.798584\n",
      "Phase 2 - Epoch 47/50\n"
     ]
    },
    {
     "name": "stderr",
     "output_type": "stream",
     "text": [
      "1it [00:00,  2.57it/s]\n"
     ]
    },
    {
     "name": "stdout",
     "output_type": "stream",
     "text": [
      "Phase 2 - Epoch 47 - Average Loss: 2422.952148\n",
      "Phase 2 - Epoch 48/50\n"
     ]
    },
    {
     "name": "stderr",
     "output_type": "stream",
     "text": [
      "1it [00:00,  2.95it/s]\n"
     ]
    },
    {
     "name": "stdout",
     "output_type": "stream",
     "text": [
      "Phase 2 - Epoch 48 - Average Loss: 2540.789551\n",
      "Phase 2 - Epoch 49/50\n"
     ]
    },
    {
     "name": "stderr",
     "output_type": "stream",
     "text": [
      "1it [00:00,  3.62it/s]\n"
     ]
    },
    {
     "name": "stdout",
     "output_type": "stream",
     "text": [
      "Phase 2 - Epoch 49 - Average Loss: 2582.522461\n",
      "Phase 2 - Epoch 50/50\n"
     ]
    },
    {
     "name": "stderr",
     "output_type": "stream",
     "text": [
      "1it [00:00,  3.06it/s]\n"
     ]
    },
    {
     "name": "stdout",
     "output_type": "stream",
     "text": [
      "Phase 2 - Epoch 50 - Average Loss: 2422.119141\n",
      "\n",
      "Phase 3: Training Presence Detector with Detection Loss\n",
      "Phase 3 - Epoch 1/50\n"
     ]
    },
    {
     "name": "stderr",
     "output_type": "stream",
     "text": [
      "1it [00:00,  2.64it/s]\n"
     ]
    },
    {
     "name": "stdout",
     "output_type": "stream",
     "text": [
      "Phase 3 - Epoch 1 - Average Loss: 0.689813\n",
      "Phase 3 - Epoch 2/50\n"
     ]
    },
    {
     "name": "stderr",
     "output_type": "stream",
     "text": [
      "1it [00:00,  2.97it/s]\n"
     ]
    },
    {
     "name": "stdout",
     "output_type": "stream",
     "text": [
      "Phase 3 - Epoch 2 - Average Loss: 0.687118\n",
      "Phase 3 - Epoch 3/50\n"
     ]
    },
    {
     "name": "stderr",
     "output_type": "stream",
     "text": [
      "1it [00:00,  2.53it/s]\n"
     ]
    },
    {
     "name": "stdout",
     "output_type": "stream",
     "text": [
      "Phase 3 - Epoch 3 - Average Loss: 0.688779\n",
      "Phase 3 - Epoch 4/50\n"
     ]
    },
    {
     "name": "stderr",
     "output_type": "stream",
     "text": [
      "1it [00:00,  2.88it/s]\n"
     ]
    },
    {
     "name": "stdout",
     "output_type": "stream",
     "text": [
      "Phase 3 - Epoch 4 - Average Loss: 0.682234\n",
      "Phase 3 - Epoch 5/50\n"
     ]
    },
    {
     "name": "stderr",
     "output_type": "stream",
     "text": [
      "1it [00:00,  2.56it/s]\n"
     ]
    },
    {
     "name": "stdout",
     "output_type": "stream",
     "text": [
      "Phase 3 - Epoch 5 - Average Loss: 0.680578\n",
      "Phase 3 - Epoch 6/50\n"
     ]
    },
    {
     "name": "stderr",
     "output_type": "stream",
     "text": [
      "1it [00:00,  2.92it/s]\n"
     ]
    },
    {
     "name": "stdout",
     "output_type": "stream",
     "text": [
      "Phase 3 - Epoch 6 - Average Loss: 0.681787\n",
      "Phase 3 - Epoch 7/50\n"
     ]
    },
    {
     "name": "stderr",
     "output_type": "stream",
     "text": [
      "1it [00:00,  3.64it/s]\n"
     ]
    },
    {
     "name": "stdout",
     "output_type": "stream",
     "text": [
      "Phase 3 - Epoch 7 - Average Loss: 0.676658\n",
      "Phase 3 - Epoch 8/50\n"
     ]
    },
    {
     "name": "stderr",
     "output_type": "stream",
     "text": [
      "1it [00:00,  3.02it/s]\n"
     ]
    },
    {
     "name": "stdout",
     "output_type": "stream",
     "text": [
      "Phase 3 - Epoch 8 - Average Loss: 0.676053\n",
      "Phase 3 - Epoch 9/50\n"
     ]
    },
    {
     "name": "stderr",
     "output_type": "stream",
     "text": [
      "1it [00:00,  2.51it/s]\n"
     ]
    },
    {
     "name": "stdout",
     "output_type": "stream",
     "text": [
      "Phase 3 - Epoch 9 - Average Loss: 0.666061\n",
      "Phase 3 - Epoch 10/50\n"
     ]
    },
    {
     "name": "stderr",
     "output_type": "stream",
     "text": [
      "1it [00:00,  3.00it/s]\n"
     ]
    },
    {
     "name": "stdout",
     "output_type": "stream",
     "text": [
      "Phase 3 - Epoch 10 - Average Loss: 0.673978\n",
      "Phase 3 - Epoch 11/50\n"
     ]
    },
    {
     "name": "stderr",
     "output_type": "stream",
     "text": [
      "1it [00:00,  2.55it/s]\n"
     ]
    },
    {
     "name": "stdout",
     "output_type": "stream",
     "text": [
      "Phase 3 - Epoch 11 - Average Loss: 0.669923\n",
      "Phase 3 - Epoch 12/50\n"
     ]
    },
    {
     "name": "stderr",
     "output_type": "stream",
     "text": [
      "1it [00:00,  2.86it/s]\n"
     ]
    },
    {
     "name": "stdout",
     "output_type": "stream",
     "text": [
      "Phase 3 - Epoch 12 - Average Loss: 0.663214\n",
      "Phase 3 - Epoch 13/50\n"
     ]
    },
    {
     "name": "stderr",
     "output_type": "stream",
     "text": [
      "1it [00:00,  3.26it/s]\n"
     ]
    },
    {
     "name": "stdout",
     "output_type": "stream",
     "text": [
      "Phase 3 - Epoch 13 - Average Loss: 0.670094\n",
      "Phase 3 - Epoch 14/50\n"
     ]
    },
    {
     "name": "stderr",
     "output_type": "stream",
     "text": [
      "1it [00:00,  3.04it/s]\n"
     ]
    },
    {
     "name": "stdout",
     "output_type": "stream",
     "text": [
      "Phase 3 - Epoch 14 - Average Loss: 0.659914\n",
      "Phase 3 - Epoch 15/50\n"
     ]
    },
    {
     "name": "stderr",
     "output_type": "stream",
     "text": [
      "1it [00:00,  3.58it/s]\n"
     ]
    },
    {
     "name": "stdout",
     "output_type": "stream",
     "text": [
      "Phase 3 - Epoch 15 - Average Loss: 0.659848\n",
      "Phase 3 - Epoch 16/50\n"
     ]
    },
    {
     "name": "stderr",
     "output_type": "stream",
     "text": [
      "1it [00:00,  2.94it/s]\n"
     ]
    },
    {
     "name": "stdout",
     "output_type": "stream",
     "text": [
      "Phase 3 - Epoch 16 - Average Loss: 0.664040\n",
      "Phase 3 - Epoch 17/50\n"
     ]
    },
    {
     "name": "stderr",
     "output_type": "stream",
     "text": [
      "1it [00:00,  3.33it/s]\n"
     ]
    },
    {
     "name": "stdout",
     "output_type": "stream",
     "text": [
      "Phase 3 - Epoch 17 - Average Loss: 0.652572\n",
      "Phase 3 - Epoch 18/50\n"
     ]
    },
    {
     "name": "stderr",
     "output_type": "stream",
     "text": [
      "1it [00:00,  3.10it/s]\n"
     ]
    },
    {
     "name": "stdout",
     "output_type": "stream",
     "text": [
      "Phase 3 - Epoch 18 - Average Loss: 0.647039\n",
      "Phase 3 - Epoch 19/50\n"
     ]
    },
    {
     "name": "stderr",
     "output_type": "stream",
     "text": [
      "1it [00:00,  3.45it/s]\n"
     ]
    },
    {
     "name": "stdout",
     "output_type": "stream",
     "text": [
      "Phase 3 - Epoch 19 - Average Loss: 0.645764\n",
      "Phase 3 - Epoch 20/50\n"
     ]
    },
    {
     "name": "stderr",
     "output_type": "stream",
     "text": [
      "1it [00:00,  3.12it/s]\n"
     ]
    },
    {
     "name": "stdout",
     "output_type": "stream",
     "text": [
      "Phase 3 - Epoch 20 - Average Loss: 0.646898\n",
      "Phase 3 - Epoch 21/50\n"
     ]
    },
    {
     "name": "stderr",
     "output_type": "stream",
     "text": [
      "1it [00:00,  3.63it/s]\n"
     ]
    },
    {
     "name": "stdout",
     "output_type": "stream",
     "text": [
      "Phase 3 - Epoch 21 - Average Loss: 0.632181\n",
      "Phase 3 - Epoch 22/50\n"
     ]
    },
    {
     "name": "stderr",
     "output_type": "stream",
     "text": [
      "1it [00:00,  3.14it/s]\n"
     ]
    },
    {
     "name": "stdout",
     "output_type": "stream",
     "text": [
      "Phase 3 - Epoch 22 - Average Loss: 0.641289\n",
      "Phase 3 - Epoch 23/50\n"
     ]
    },
    {
     "name": "stderr",
     "output_type": "stream",
     "text": [
      "1it [00:00,  2.46it/s]\n"
     ]
    },
    {
     "name": "stdout",
     "output_type": "stream",
     "text": [
      "Phase 3 - Epoch 23 - Average Loss: 0.638009\n",
      "Phase 3 - Epoch 24/50\n"
     ]
    },
    {
     "name": "stderr",
     "output_type": "stream",
     "text": [
      "1it [00:00,  2.94it/s]\n"
     ]
    },
    {
     "name": "stdout",
     "output_type": "stream",
     "text": [
      "Phase 3 - Epoch 24 - Average Loss: 0.628190\n",
      "Phase 3 - Epoch 25/50\n"
     ]
    },
    {
     "name": "stderr",
     "output_type": "stream",
     "text": [
      "1it [00:00,  3.67it/s]\n"
     ]
    },
    {
     "name": "stdout",
     "output_type": "stream",
     "text": [
      "Phase 3 - Epoch 25 - Average Loss: 0.626288\n",
      "Phase 3 - Epoch 26/50\n"
     ]
    },
    {
     "name": "stderr",
     "output_type": "stream",
     "text": [
      "1it [00:00,  2.99it/s]\n"
     ]
    },
    {
     "name": "stdout",
     "output_type": "stream",
     "text": [
      "Phase 3 - Epoch 26 - Average Loss: 0.612692\n",
      "Phase 3 - Epoch 27/50\n"
     ]
    },
    {
     "name": "stderr",
     "output_type": "stream",
     "text": [
      "1it [00:00,  2.52it/s]\n"
     ]
    },
    {
     "name": "stdout",
     "output_type": "stream",
     "text": [
      "Phase 3 - Epoch 27 - Average Loss: 0.614594\n",
      "Phase 3 - Epoch 28/50\n"
     ]
    },
    {
     "name": "stderr",
     "output_type": "stream",
     "text": [
      "1it [00:00,  2.74it/s]\n"
     ]
    },
    {
     "name": "stdout",
     "output_type": "stream",
     "text": [
      "Phase 3 - Epoch 28 - Average Loss: 0.610357\n",
      "Phase 3 - Epoch 29/50\n"
     ]
    },
    {
     "name": "stderr",
     "output_type": "stream",
     "text": [
      "1it [00:00,  3.44it/s]\n"
     ]
    },
    {
     "name": "stdout",
     "output_type": "stream",
     "text": [
      "Phase 3 - Epoch 29 - Average Loss: 0.606897\n",
      "Phase 3 - Epoch 30/50\n"
     ]
    },
    {
     "name": "stderr",
     "output_type": "stream",
     "text": [
      "1it [00:00,  2.87it/s]\n"
     ]
    },
    {
     "name": "stdout",
     "output_type": "stream",
     "text": [
      "Phase 3 - Epoch 30 - Average Loss: 0.590854\n",
      "Phase 3 - Epoch 31/50\n"
     ]
    },
    {
     "name": "stderr",
     "output_type": "stream",
     "text": [
      "1it [00:00,  2.44it/s]\n"
     ]
    },
    {
     "name": "stdout",
     "output_type": "stream",
     "text": [
      "Phase 3 - Epoch 31 - Average Loss: 0.591878\n",
      "Phase 3 - Epoch 32/50\n"
     ]
    },
    {
     "name": "stderr",
     "output_type": "stream",
     "text": [
      "1it [00:00,  2.84it/s]\n"
     ]
    },
    {
     "name": "stdout",
     "output_type": "stream",
     "text": [
      "Phase 3 - Epoch 32 - Average Loss: 0.585258\n",
      "Phase 3 - Epoch 33/50\n"
     ]
    },
    {
     "name": "stderr",
     "output_type": "stream",
     "text": [
      "1it [00:00,  2.55it/s]\n"
     ]
    },
    {
     "name": "stdout",
     "output_type": "stream",
     "text": [
      "Phase 3 - Epoch 33 - Average Loss: 0.587926\n",
      "Phase 3 - Epoch 34/50\n"
     ]
    },
    {
     "name": "stderr",
     "output_type": "stream",
     "text": [
      "1it [00:00,  3.12it/s]\n"
     ]
    },
    {
     "name": "stdout",
     "output_type": "stream",
     "text": [
      "Phase 3 - Epoch 34 - Average Loss: 0.573741\n",
      "Phase 3 - Epoch 35/50\n"
     ]
    },
    {
     "name": "stderr",
     "output_type": "stream",
     "text": [
      "1it [00:00,  3.60it/s]\n"
     ]
    },
    {
     "name": "stdout",
     "output_type": "stream",
     "text": [
      "Phase 3 - Epoch 35 - Average Loss: 0.566621\n",
      "Phase 3 - Epoch 36/50\n"
     ]
    },
    {
     "name": "stderr",
     "output_type": "stream",
     "text": [
      "1it [00:00,  2.97it/s]\n"
     ]
    },
    {
     "name": "stdout",
     "output_type": "stream",
     "text": [
      "Phase 3 - Epoch 36 - Average Loss: 0.560736\n",
      "Phase 3 - Epoch 37/50\n"
     ]
    },
    {
     "name": "stderr",
     "output_type": "stream",
     "text": [
      "1it [00:00,  3.61it/s]\n"
     ]
    },
    {
     "name": "stdout",
     "output_type": "stream",
     "text": [
      "Phase 3 - Epoch 37 - Average Loss: 0.563980\n",
      "Phase 3 - Epoch 38/50\n"
     ]
    },
    {
     "name": "stderr",
     "output_type": "stream",
     "text": [
      "0it [00:00, ?it/s]\n"
     ]
    },
    {
     "ename": "KeyboardInterrupt",
     "evalue": "",
     "output_type": "error",
     "traceback": [
      "\u001b[1;31m---------------------------------------------------------------------------\u001b[0m",
      "\u001b[1;31mKeyboardInterrupt\u001b[0m                         Traceback (most recent call last)",
      "Cell \u001b[1;32mIn[34], line 1\u001b[0m\n\u001b[1;32m----> 1\u001b[0m train_isac_system(\n\u001b[0;32m      2\u001b[0m     M, K,\n\u001b[0;32m      3\u001b[0m     encoder, beamformer, presence_detector, angle_estimator, \n\u001b[0;32m      4\u001b[0m     uncertainty_estimator, comm_receiver,\n\u001b[0;32m      5\u001b[0m     batch_size,\n\u001b[0;32m      6\u001b[0m     num_samples,\n\u001b[0;32m      7\u001b[0m     radar_snr_range,\n\u001b[0;32m      8\u001b[0m     comm_snr_range,\n\u001b[0;32m      9\u001b[0m     theta_range,\n\u001b[0;32m     10\u001b[0m     target_presence_prob,\n\u001b[0;32m     11\u001b[0m     learning_rate\u001b[38;5;241m=\u001b[39m\u001b[38;5;241m0.001\u001b[39m,\n\u001b[0;32m     12\u001b[0m     r_tradeoff\u001b[38;5;241m=\u001b[39m\u001b[38;5;241m0.09\u001b[39m,\n\u001b[0;32m     13\u001b[0m     num_epochs_phase1\u001b[38;5;241m=\u001b[39m\u001b[38;5;241m50\u001b[39m,\n\u001b[0;32m     14\u001b[0m     num_epochs_phase2\u001b[38;5;241m=\u001b[39m\u001b[38;5;241m50\u001b[39m,\n\u001b[0;32m     15\u001b[0m     num_epochs_phase3\u001b[38;5;241m=\u001b[39m\u001b[38;5;241m50\u001b[39m,\n\u001b[0;32m     16\u001b[0m     num_epochs_joint\u001b[38;5;241m=\u001b[39m\u001b[38;5;241m20\u001b[39m,\n\u001b[0;32m     17\u001b[0m )\n",
      "Cell \u001b[1;32mIn[32], line 241\u001b[0m, in \u001b[0;36mtrain_isac_system\u001b[1;34m(M, K, encoder, beamformer, presence_detector, angle_estimator, uncertainty_estimator, comm_receiver, batch_size, num_samples, radar_snr_range, comm_snr_range, angle_range, target_presence_prob, learning_rate, r_tradeoff, num_epochs_phase1, num_epochs_phase2, num_epochs_phase3, num_epochs_joint)\u001b[0m\n\u001b[0;32m    238\u001b[0m optimizer_phase3\u001b[38;5;241m.\u001b[39mzero_grad()\n\u001b[0;32m    240\u001b[0m \u001b[38;5;66;03m# Forward pass through all components\u001b[39;00m\n\u001b[1;32m--> 241\u001b[0m outputs \u001b[38;5;241m=\u001b[39m forward_pass(\n\u001b[0;32m    242\u001b[0m     encoder, beamformer, presence_detector, angle_estimator,\n\u001b[0;32m    243\u001b[0m     uncertainty_estimator, comm_receiver, batch\n\u001b[0;32m    244\u001b[0m )\n\u001b[0;32m    246\u001b[0m \u001b[38;5;66;03m# Compute detection loss (BCE)\u001b[39;00m\n\u001b[0;32m    247\u001b[0m loss_phase3 \u001b[38;5;241m=\u001b[39m target_detection_loss(outputs[\u001b[38;5;124m'\u001b[39m\u001b[38;5;124mq\u001b[39m\u001b[38;5;124m'\u001b[39m], batch[\u001b[38;5;124m'\u001b[39m\u001b[38;5;124mt\u001b[39m\u001b[38;5;124m'\u001b[39m])\n",
      "Cell \u001b[1;32mIn[32], line 68\u001b[0m, in \u001b[0;36mforward_pass\u001b[1;34m(encoder, beamformer, presence_detector, angle_estimator, uncertainty_estimator, comm_receiver, batch)\u001b[0m\n\u001b[0;32m     64\u001b[0m q \u001b[38;5;241m=\u001b[39m presence_detector(radar_signal)\n\u001b[0;32m     66\u001b[0m \u001b[38;5;66;03m# ----- Communication Receiver Processing -----\u001b[39;00m\n\u001b[0;32m     67\u001b[0m \u001b[38;5;66;03m# Message decoding\u001b[39;00m\n\u001b[1;32m---> 68\u001b[0m m_pred \u001b[38;5;241m=\u001b[39m comm_receiver(comm_signal,kappa)\n\u001b[0;32m     70\u001b[0m \u001b[38;5;28;01mreturn\u001b[39;00m {\n\u001b[0;32m     71\u001b[0m     \u001b[38;5;124m'\u001b[39m\u001b[38;5;124mtheta_pred\u001b[39m\u001b[38;5;124m'\u001b[39m: theta_pred,\n\u001b[0;32m     72\u001b[0m     \u001b[38;5;124m'\u001b[39m\u001b[38;5;124msigma\u001b[39m\u001b[38;5;124m'\u001b[39m: sigma,\n\u001b[0;32m     73\u001b[0m     \u001b[38;5;124m'\u001b[39m\u001b[38;5;124mq\u001b[39m\u001b[38;5;124m'\u001b[39m: q,\n\u001b[0;32m     74\u001b[0m     \u001b[38;5;124m'\u001b[39m\u001b[38;5;124mm_pred\u001b[39m\u001b[38;5;124m'\u001b[39m: m_pred\n\u001b[0;32m     75\u001b[0m }\n",
      "File \u001b[1;32mc:\\Users\\rehaa\\anaconda3\\Lib\\site-packages\\torch\\nn\\modules\\module.py:1739\u001b[0m, in \u001b[0;36mModule._wrapped_call_impl\u001b[1;34m(self, *args, **kwargs)\u001b[0m\n\u001b[0;32m   1737\u001b[0m     \u001b[38;5;28;01mreturn\u001b[39;00m \u001b[38;5;28mself\u001b[39m\u001b[38;5;241m.\u001b[39m_compiled_call_impl(\u001b[38;5;241m*\u001b[39margs, \u001b[38;5;241m*\u001b[39m\u001b[38;5;241m*\u001b[39mkwargs)  \u001b[38;5;66;03m# type: ignore[misc]\u001b[39;00m\n\u001b[0;32m   1738\u001b[0m \u001b[38;5;28;01melse\u001b[39;00m:\n\u001b[1;32m-> 1739\u001b[0m     \u001b[38;5;28;01mreturn\u001b[39;00m \u001b[38;5;28mself\u001b[39m\u001b[38;5;241m.\u001b[39m_call_impl(\u001b[38;5;241m*\u001b[39margs, \u001b[38;5;241m*\u001b[39m\u001b[38;5;241m*\u001b[39mkwargs)\n",
      "File \u001b[1;32mc:\\Users\\rehaa\\anaconda3\\Lib\\site-packages\\torch\\nn\\modules\\module.py:1750\u001b[0m, in \u001b[0;36mModule._call_impl\u001b[1;34m(self, *args, **kwargs)\u001b[0m\n\u001b[0;32m   1745\u001b[0m \u001b[38;5;66;03m# If we don't have any hooks, we want to skip the rest of the logic in\u001b[39;00m\n\u001b[0;32m   1746\u001b[0m \u001b[38;5;66;03m# this function, and just call forward.\u001b[39;00m\n\u001b[0;32m   1747\u001b[0m \u001b[38;5;28;01mif\u001b[39;00m \u001b[38;5;129;01mnot\u001b[39;00m (\u001b[38;5;28mself\u001b[39m\u001b[38;5;241m.\u001b[39m_backward_hooks \u001b[38;5;129;01mor\u001b[39;00m \u001b[38;5;28mself\u001b[39m\u001b[38;5;241m.\u001b[39m_backward_pre_hooks \u001b[38;5;129;01mor\u001b[39;00m \u001b[38;5;28mself\u001b[39m\u001b[38;5;241m.\u001b[39m_forward_hooks \u001b[38;5;129;01mor\u001b[39;00m \u001b[38;5;28mself\u001b[39m\u001b[38;5;241m.\u001b[39m_forward_pre_hooks\n\u001b[0;32m   1748\u001b[0m         \u001b[38;5;129;01mor\u001b[39;00m _global_backward_pre_hooks \u001b[38;5;129;01mor\u001b[39;00m _global_backward_hooks\n\u001b[0;32m   1749\u001b[0m         \u001b[38;5;129;01mor\u001b[39;00m _global_forward_hooks \u001b[38;5;129;01mor\u001b[39;00m _global_forward_pre_hooks):\n\u001b[1;32m-> 1750\u001b[0m     \u001b[38;5;28;01mreturn\u001b[39;00m forward_call(\u001b[38;5;241m*\u001b[39margs, \u001b[38;5;241m*\u001b[39m\u001b[38;5;241m*\u001b[39mkwargs)\n\u001b[0;32m   1752\u001b[0m result \u001b[38;5;241m=\u001b[39m \u001b[38;5;28;01mNone\u001b[39;00m\n\u001b[0;32m   1753\u001b[0m called_always_called_hooks \u001b[38;5;241m=\u001b[39m \u001b[38;5;28mset\u001b[39m()\n",
      "Cell \u001b[1;32mIn[26], line 203\u001b[0m, in \u001b[0;36mCommunicationReceiver.forward\u001b[1;34m(self, z_c, kappa)\u001b[0m\n\u001b[0;32m    201\u001b[0m x \u001b[38;5;241m=\u001b[39m F\u001b[38;5;241m.\u001b[39mrelu(\u001b[38;5;28mself\u001b[39m\u001b[38;5;241m.\u001b[39mfc1(x_feat))      \u001b[38;5;66;03m# [B,K]\u001b[39;00m\n\u001b[0;32m    202\u001b[0m x \u001b[38;5;241m=\u001b[39m F\u001b[38;5;241m.\u001b[39mrelu(\u001b[38;5;28mself\u001b[39m\u001b[38;5;241m.\u001b[39mfc2(x))           \u001b[38;5;66;03m# [B,2K]\u001b[39;00m\n\u001b[1;32m--> 203\u001b[0m x \u001b[38;5;241m=\u001b[39m F\u001b[38;5;241m.\u001b[39mrelu(\u001b[38;5;28mself\u001b[39m\u001b[38;5;241m.\u001b[39mfc3(x))           \u001b[38;5;66;03m# [B,2K]\u001b[39;00m\n\u001b[0;32m    204\u001b[0m logits \u001b[38;5;241m=\u001b[39m \u001b[38;5;28mself\u001b[39m\u001b[38;5;241m.\u001b[39mfc4(x)              \u001b[38;5;66;03m# [B,M]\u001b[39;00m\n\u001b[0;32m    206\u001b[0m \u001b[38;5;66;03m# 4) Convert to probabilities (or omit and use CrossEntropyLoss on logits)\u001b[39;00m\n",
      "File \u001b[1;32mc:\\Users\\rehaa\\anaconda3\\Lib\\site-packages\\torch\\nn\\modules\\module.py:1739\u001b[0m, in \u001b[0;36mModule._wrapped_call_impl\u001b[1;34m(self, *args, **kwargs)\u001b[0m\n\u001b[0;32m   1737\u001b[0m     \u001b[38;5;28;01mreturn\u001b[39;00m \u001b[38;5;28mself\u001b[39m\u001b[38;5;241m.\u001b[39m_compiled_call_impl(\u001b[38;5;241m*\u001b[39margs, \u001b[38;5;241m*\u001b[39m\u001b[38;5;241m*\u001b[39mkwargs)  \u001b[38;5;66;03m# type: ignore[misc]\u001b[39;00m\n\u001b[0;32m   1738\u001b[0m \u001b[38;5;28;01melse\u001b[39;00m:\n\u001b[1;32m-> 1739\u001b[0m     \u001b[38;5;28;01mreturn\u001b[39;00m \u001b[38;5;28mself\u001b[39m\u001b[38;5;241m.\u001b[39m_call_impl(\u001b[38;5;241m*\u001b[39margs, \u001b[38;5;241m*\u001b[39m\u001b[38;5;241m*\u001b[39mkwargs)\n",
      "File \u001b[1;32mc:\\Users\\rehaa\\anaconda3\\Lib\\site-packages\\torch\\nn\\modules\\module.py:1750\u001b[0m, in \u001b[0;36mModule._call_impl\u001b[1;34m(self, *args, **kwargs)\u001b[0m\n\u001b[0;32m   1745\u001b[0m \u001b[38;5;66;03m# If we don't have any hooks, we want to skip the rest of the logic in\u001b[39;00m\n\u001b[0;32m   1746\u001b[0m \u001b[38;5;66;03m# this function, and just call forward.\u001b[39;00m\n\u001b[0;32m   1747\u001b[0m \u001b[38;5;28;01mif\u001b[39;00m \u001b[38;5;129;01mnot\u001b[39;00m (\u001b[38;5;28mself\u001b[39m\u001b[38;5;241m.\u001b[39m_backward_hooks \u001b[38;5;129;01mor\u001b[39;00m \u001b[38;5;28mself\u001b[39m\u001b[38;5;241m.\u001b[39m_backward_pre_hooks \u001b[38;5;129;01mor\u001b[39;00m \u001b[38;5;28mself\u001b[39m\u001b[38;5;241m.\u001b[39m_forward_hooks \u001b[38;5;129;01mor\u001b[39;00m \u001b[38;5;28mself\u001b[39m\u001b[38;5;241m.\u001b[39m_forward_pre_hooks\n\u001b[0;32m   1748\u001b[0m         \u001b[38;5;129;01mor\u001b[39;00m _global_backward_pre_hooks \u001b[38;5;129;01mor\u001b[39;00m _global_backward_hooks\n\u001b[0;32m   1749\u001b[0m         \u001b[38;5;129;01mor\u001b[39;00m _global_forward_hooks \u001b[38;5;129;01mor\u001b[39;00m _global_forward_pre_hooks):\n\u001b[1;32m-> 1750\u001b[0m     \u001b[38;5;28;01mreturn\u001b[39;00m forward_call(\u001b[38;5;241m*\u001b[39margs, \u001b[38;5;241m*\u001b[39m\u001b[38;5;241m*\u001b[39mkwargs)\n\u001b[0;32m   1752\u001b[0m result \u001b[38;5;241m=\u001b[39m \u001b[38;5;28;01mNone\u001b[39;00m\n\u001b[0;32m   1753\u001b[0m called_always_called_hooks \u001b[38;5;241m=\u001b[39m \u001b[38;5;28mset\u001b[39m()\n",
      "File \u001b[1;32mc:\\Users\\rehaa\\anaconda3\\Lib\\site-packages\\torch\\nn\\modules\\linear.py:125\u001b[0m, in \u001b[0;36mLinear.forward\u001b[1;34m(self, input)\u001b[0m\n\u001b[0;32m    124\u001b[0m \u001b[38;5;28;01mdef\u001b[39;00m \u001b[38;5;21mforward\u001b[39m(\u001b[38;5;28mself\u001b[39m, \u001b[38;5;28minput\u001b[39m: Tensor) \u001b[38;5;241m-\u001b[39m\u001b[38;5;241m>\u001b[39m Tensor:\n\u001b[1;32m--> 125\u001b[0m     \u001b[38;5;28;01mreturn\u001b[39;00m F\u001b[38;5;241m.\u001b[39mlinear(\u001b[38;5;28minput\u001b[39m, \u001b[38;5;28mself\u001b[39m\u001b[38;5;241m.\u001b[39mweight, \u001b[38;5;28mself\u001b[39m\u001b[38;5;241m.\u001b[39mbias)\n",
      "\u001b[1;31mKeyboardInterrupt\u001b[0m: "
     ]
    }
   ],
   "source": [
    "train_isac_system(\n",
    "    M, K,\n",
    "    encoder, beamformer, presence_detector, angle_estimator, \n",
    "    uncertainty_estimator, comm_receiver,\n",
    "    batch_size,\n",
    "    num_samples,\n",
    "    radar_snr_range,\n",
    "    comm_snr_range,\n",
    "    theta_range,\n",
    "    target_presence_prob,\n",
    "    learning_rate=0.001,\n",
    "    r_tradeoff=0.09,\n",
    "    num_epochs_phase1=50,\n",
    "    num_epochs_phase2=50,\n",
    "    num_epochs_phase3=50,\n",
    "    num_epochs_joint=20,\n",
    ")"
   ]
  },
  {
   "cell_type": "code",
   "execution_count": null,
   "id": "093ab99e-049b-470b-ad59-82aff4ff64dd",
   "metadata": {},
   "outputs": [],
   "source": []
  },
  {
   "cell_type": "code",
   "execution_count": null,
   "id": "bb443f00-bdad-4c7f-9836-475f996018a9",
   "metadata": {},
   "outputs": [],
   "source": []
  },
  {
   "cell_type": "code",
   "execution_count": null,
   "id": "9c50a24b-a3c8-4b0a-842e-d0f0c7c15fab",
   "metadata": {},
   "outputs": [],
   "source": []
  }
 ],
 "metadata": {
  "kernelspec": {
   "display_name": "base",
   "language": "python",
   "name": "python3"
  },
  "language_info": {
   "codemirror_mode": {
    "name": "ipython",
    "version": 3
   },
   "file_extension": ".py",
   "mimetype": "text/x-python",
   "name": "python",
   "nbconvert_exporter": "python",
   "pygments_lexer": "ipython3",
   "version": "3.11.5"
  }
 },
 "nbformat": 4,
 "nbformat_minor": 5
}
